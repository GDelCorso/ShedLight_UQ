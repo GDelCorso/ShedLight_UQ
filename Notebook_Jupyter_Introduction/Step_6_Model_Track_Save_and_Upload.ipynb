{
 "cells": [
  {
   "cell_type": "markdown",
   "id": "d9934259-870f-4f18-9f45-726b8ca51a39",
   "metadata": {},
   "source": [
    "# Track model training, save, and upload\n",
    "The purpose of this chapter is to show how to store an elementary log of model training/validation, how to store model weights, and how to retrieve them for inference or re-training."
   ]
  },
  {
   "cell_type": "code",
   "execution_count": 1,
   "id": "f777bbad-4eb5-4c15-98de-e0c9988501d2",
   "metadata": {},
   "outputs": [],
   "source": [
    "# Libraries\n",
    "import os\n",
    "import numpy as np\n",
    "import matplotlib.pyplot as plt\n",
    "import seaborn as sns\n",
    "import pandas as pd\n",
    "\n",
    "from pathlib import Path\n",
    "\n",
    "import torch\n",
    "import torch.nn as nn\n",
    "import torch.optim as optim\n",
    "\n",
    "from torch.utils.data import Dataset\n",
    "from torch.utils.data import DataLoader\n",
    "\n",
    "path_pardir = Path(os.getcwd()).parent\n",
    "path_data = os.path.join(path_pardir, 'Data')"
   ]
  },
  {
   "cell_type": "markdown",
   "id": "dc6accaf-39ef-4d15-abfd-5e6111e63a41",
   "metadata": {},
   "source": [
    "## A standard regression model\n",
    "This is an elementary implementation of a regression model in Pytorch. we will use the procedure introduced in previous notebooks to define and train the model.\n",
    "\n",
    "The data frame is the linear relationship without noise, we explicitly split the data frame into training/validation/test set."
   ]
  },
  {
   "cell_type": "code",
   "execution_count": 2,
   "id": "ddcab84a-136e-4eb7-9cb4-535611f728de",
   "metadata": {
    "scrolled": true
   },
   "outputs": [
    {
     "name": "stdout",
     "output_type": "stream",
     "text": [
      "Device: cpu\n"
     ]
    }
   ],
   "source": [
    "device = torch.device(\"cuda\" if torch.cuda.is_available() else \"cpu\")\n",
    "device = \"cpu\"\n",
    "print(\"Device:\", device)"
   ]
  },
  {
   "cell_type": "code",
   "execution_count": 3,
   "id": "892bfb4e-df9f-472a-8845-892d7a68f8d0",
   "metadata": {
    "scrolled": true
   },
   "outputs": [],
   "source": [
    "chosen_df = \"df_linear.csv\"\n",
    "\n",
    "full_df = pd.read_csv(os.path.join(path_data, chosen_df))\n",
    "\n",
    "training_df = full_df[full_df[\"split_label\"]==0]\n",
    "validation_df = full_df[full_df[\"split_label\"]==1]\n",
    "test_df = full_df[full_df[\"split_label\"]==2]"
   ]
  },
  {
   "cell_type": "code",
   "execution_count": 4,
   "id": "f9e5033d-40a8-40f2-b57b-58d41c744f41",
   "metadata": {},
   "outputs": [
    {
     "name": "stdout",
     "output_type": "stream",
     "text": [
      "Length training dataset: 160\n"
     ]
    }
   ],
   "source": [
    "# Dataset definition:\n",
    "class CustomDataset(Dataset):\n",
    "    def __init__(self, annotations_file, path_data, split_label=None):\n",
    "        if split_label!=None:\n",
    "            self.df = pd.read_csv(os.path.join(path_data, annotations_file))\n",
    "            self.df = self.df[self.df['split_label']==split_label]\n",
    "        else:\n",
    "            self.df = pd.read_csv(os.path.join(path_data, annotations_file))\n",
    "\n",
    "    def __len__(self):\n",
    "        return len(self.df)\n",
    "\n",
    "    def __getitem__(self, idx):\n",
    "        x_range = float(self.df.iloc[idx]['x_range'])\n",
    "        y_range = float(self.df.iloc[idx]['y_range'])\n",
    "\n",
    "        features = torch.tensor([x_range], dtype=torch.float32)\n",
    "        output = torch.tensor([y_range], dtype=torch.float32)\n",
    "        \n",
    "        return features, output\n",
    "\n",
    "# Initialize Training dataset and show outputs and properties:\n",
    "training_dataset = CustomDataset(annotations_file=chosen_df, path_data=path_data, split_label=0)\n",
    "print(\"Length training dataset:\", training_dataset.__len__())\n",
    "\n",
    "# Initialize validation and test datasets:\n",
    "validation_dataset = CustomDataset(annotations_file=chosen_df, path_data=path_data, split_label=1)\n",
    "test_dataset = CustomDataset(annotations_file=chosen_df, path_data=path_data, split_label=2)"
   ]
  },
  {
   "cell_type": "code",
   "execution_count": 5,
   "id": "f0b673a6-f5d9-49b8-9064-4f5ce16d5d27",
   "metadata": {
    "scrolled": true
   },
   "outputs": [],
   "source": [
    "# Size of each batch\n",
    "batch_size = 30  \n",
    "\n",
    "# Define 3 DataLoaders: Training/Validation/Test \n",
    "training_dataloader = DataLoader(training_dataset, batch_size=batch_size, shuffle=True)\n",
    "validation_dataloader = DataLoader(validation_dataset, batch_size=1, shuffle=False)\n",
    "test_dataloader = DataLoader(test_dataset, batch_size=1, shuffle=False)"
   ]
  },
  {
   "cell_type": "markdown",
   "id": "d1e53fc0-b5d2-4ed7-916a-52c07d8ce58c",
   "metadata": {},
   "source": [
    "Introduce a (small) model to approximate the relationship:"
   ]
  },
  {
   "cell_type": "code",
   "execution_count": 6,
   "id": "9b76c44f-2fa3-44ac-953a-7d135ab71fba",
   "metadata": {},
   "outputs": [],
   "source": [
    "# Define the model:\n",
    "model = nn.Sequential(\n",
    "    nn.Linear(1, 4),\n",
    "    nn.ReLU(),\n",
    "    nn.Linear(4,8),\n",
    "    nn.ReLU(),\n",
    "    nn.Linear(8,4),\n",
    "    nn.ReLU(),\n",
    "    nn.Linear(4, 1)\n",
    ")\n",
    "\n",
    "# Move the model to device (GPU):\n",
    "model.to(device)\n",
    "\n",
    "# Convert weights type to float:\n",
    "model = model.float()"
   ]
  },
  {
   "cell_type": "markdown",
   "id": "d24c3b2b-eab0-4d57-a4c2-ddd5c29522e9",
   "metadata": {},
   "source": [
    "# Save the initial state of the model\n",
    "The initial state of the model can be stored in such a way that the random initialisation of the weights is preserved and the model training is (more) reproducible.\n",
    "\n",
    "Pytorch allows to save model *weights* or model *architecture*. The first approach uses less memory and is generally PyTorch version independent, but requires the model structure to be redefined in code."
   ]
  },
  {
   "cell_type": "code",
   "execution_count": 7,
   "id": "7c230cf4-4bb0-4f8a-855a-92f8de2ef98c",
   "metadata": {},
   "outputs": [
    {
     "data": {
      "text/plain": [
       "<All keys matched successfully>"
      ]
     },
     "execution_count": 7,
     "metadata": {},
     "output_type": "execute_result"
    }
   ],
   "source": [
    "# Define the save path:\n",
    "path_save_model_weights = os.path.join(path_data, \"linear_model_initial_weights.pth\")\n",
    "\n",
    "# Save model weights\n",
    "torch.save(model.state_dict(), path_save_model_weights)\n",
    "\n",
    "# Load weigths - it requires to have already defined a model structure - weights_only will be set True as default in next pytorch releases\n",
    "model.load_state_dict(torch.load(path_save_model_weights, weights_only=True)) "
   ]
  },
  {
   "cell_type": "code",
   "execution_count": 8,
   "id": "92752d48-c4d3-48ea-9c01-276412f622fb",
   "metadata": {},
   "outputs": [
    {
     "name": "stderr",
     "output_type": "stream",
     "text": [
      "C:\\Users\\Giulio Del Corso\\AppData\\Local\\Temp\\ipykernel_20612\\2328770123.py:8: FutureWarning: You are using `torch.load` with `weights_only=False` (the current default value), which uses the default pickle module implicitly. It is possible to construct malicious pickle data which will execute arbitrary code during unpickling (See https://github.com/pytorch/pytorch/blob/main/SECURITY.md#untrusted-models for more details). In a future release, the default value for `weights_only` will be flipped to `True`. This limits the functions that could be executed during unpickling. Arbitrary objects will no longer be allowed to be loaded via this mode unless they are explicitly allowlisted by the user via `torch.serialization.add_safe_globals`. We recommend you start setting `weights_only=True` for any use case where you don't have full control of the loaded file. Please open an issue on GitHub for any issues related to this experimental feature.\n",
      "  model_2 = torch.load(path_save_model_architecture, map_location=device)\n"
     ]
    }
   ],
   "source": [
    "# Define the save path:\n",
    "path_save_model_architecture = os.path.join(path_data, \"linear_model_initial_architecture.pth\")\n",
    "\n",
    "#Save model and architecture\n",
    "torch.save(model, path_save_model_architecture)\n",
    "\n",
    "# Load the model and move it to the appropriate device\n",
    "model_2 = torch.load(path_save_model_architecture, map_location=device)"
   ]
  },
  {
   "cell_type": "markdown",
   "id": "e0cb4fb2-299b-416a-b31d-a8168dfec453",
   "metadata": {},
   "source": [
    "## Train the model, track the log and save the ending state"
   ]
  },
  {
   "cell_type": "code",
   "execution_count": 9,
   "id": "32c67131-8bcd-498d-a39a-89d3f9e8ed3c",
   "metadata": {},
   "outputs": [],
   "source": [
    "# Loss function (Mean Squared Error):\n",
    "loss_fn = nn.MSELoss()  \n",
    "\n",
    "# Optimizer (Adam): \n",
    "learning_rate = 1e-2\n",
    "optimizer = optim.Adam(model.parameters(), lr=learning_rate)"
   ]
  },
  {
   "cell_type": "markdown",
   "id": "0806bc0d-289d-4572-bf99-4719e97055d5",
   "metadata": {},
   "source": [
    "During the training cycle, we want to store model weights (every tot backup_epoch) in order to restart training if necessary or to upload a model after a certain number of epochs.\n",
    "\n",
    "We also want to keep a log of the behaviour of the training loss and validation loss. An elementary but effective log is to save a dataframe including the epoch, validation loss and training loss (every tot backup_epoch)."
   ]
  },
  {
   "cell_type": "code",
   "execution_count": 10,
   "id": "3db53ec0-746f-4291-9aa7-e4dc263ae223",
   "metadata": {
    "scrolled": true
   },
   "outputs": [
    {
     "name": "stdout",
     "output_type": "stream",
     "text": [
      "Epoch [1/100], Loss: 12595.0965, Val. Loss: 13174.6404\n",
      "Epoch [2/100], Loss: 11322.0223, Val. Loss: 12337.3671\n",
      "Epoch [3/100], Loss: 10897.2188, Val. Loss: 10982.5356\n",
      "Epoch [4/100], Loss: 9602.1248, Val. Loss: 8948.3580\n",
      "Epoch [5/100], Loss: 7702.0872, Val. Loss: 6257.1142\n",
      "Save intermediate state\n",
      "\n",
      "Epoch [6/100], Loss: 4687.7179, Val. Loss: 3301.0431\n",
      "Epoch [7/100], Loss: 2481.2455, Val. Loss: 1322.5784\n",
      "Epoch [8/100], Loss: 943.2908, Val. Loss: 429.7191\n",
      "Epoch [9/100], Loss: 242.6386, Val. Loss: 231.0326\n",
      "Epoch [10/100], Loss: 274.2060, Val. Loss: 182.5233\n",
      "Save intermediate state\n",
      "\n",
      "Epoch [11/100], Loss: 102.8503, Val. Loss: 34.2352\n",
      "Epoch [12/100], Loss: 37.2961, Val. Loss: 65.0815\n",
      "Epoch [13/100], Loss: 61.9178, Val. Loss: 47.3760\n",
      "Epoch [14/100], Loss: 26.8353, Val. Loss: 13.3108\n",
      "Epoch [15/100], Loss: 16.6258, Val. Loss: 20.4612\n",
      "Save intermediate state\n",
      "\n",
      "Epoch [16/100], Loss: 20.4469, Val. Loss: 14.5648\n",
      "Epoch [17/100], Loss: 12.8762, Val. Loss: 12.6180\n",
      "Epoch [18/100], Loss: 12.8888, Val. Loss: 17.8586\n",
      "Epoch [19/100], Loss: 13.1989, Val. Loss: 11.3428\n",
      "Epoch [20/100], Loss: 11.7630, Val. Loss: 11.5722\n",
      "Save intermediate state\n",
      "\n",
      "Epoch [21/100], Loss: 11.0498, Val. Loss: 11.2827\n",
      "Epoch [22/100], Loss: 11.7556, Val. Loss: 11.3688\n",
      "Epoch [23/100], Loss: 10.1186, Val. Loss: 10.8215\n",
      "Epoch [24/100], Loss: 9.9160, Val. Loss: 10.5495\n",
      "Epoch [25/100], Loss: 10.5162, Val. Loss: 10.3279\n",
      "Save intermediate state\n",
      "\n",
      "Epoch [26/100], Loss: 10.1461, Val. Loss: 10.0739\n",
      "Epoch [27/100], Loss: 9.8846, Val. Loss: 9.4958\n",
      "Epoch [28/100], Loss: 8.4942, Val. Loss: 8.1538\n",
      "Epoch [29/100], Loss: 8.3876, Val. Loss: 7.5032\n",
      "Epoch [30/100], Loss: 7.9045, Val. Loss: 10.6059\n",
      "Save intermediate state\n",
      "\n",
      "Epoch [31/100], Loss: 11.2157, Val. Loss: 9.6850\n",
      "Epoch [32/100], Loss: 10.0398, Val. Loss: 8.5187\n",
      "Epoch [33/100], Loss: 8.6399, Val. Loss: 8.2416\n",
      "Epoch [34/100], Loss: 8.2044, Val. Loss: 7.8854\n",
      "Epoch [35/100], Loss: 7.6779, Val. Loss: 6.3977\n",
      "Save intermediate state\n",
      "\n",
      "Epoch [36/100], Loss: 5.9653, Val. Loss: 7.8925\n",
      "Epoch [37/100], Loss: 6.6785, Val. Loss: 7.6380\n",
      "Epoch [38/100], Loss: 7.8977, Val. Loss: 5.8952\n",
      "Epoch [39/100], Loss: 6.1492, Val. Loss: 7.8455\n",
      "Epoch [40/100], Loss: 7.1220, Val. Loss: 6.3389\n",
      "Save intermediate state\n",
      "\n",
      "Epoch [41/100], Loss: 5.8276, Val. Loss: 5.9437\n",
      "Epoch [42/100], Loss: 6.3148, Val. Loss: 5.4527\n",
      "Epoch [43/100], Loss: 5.2311, Val. Loss: 5.3962\n",
      "Epoch [44/100], Loss: 6.3862, Val. Loss: 6.4663\n",
      "Epoch [45/100], Loss: 5.4314, Val. Loss: 5.1007\n",
      "Save intermediate state\n",
      "\n",
      "Epoch [46/100], Loss: 4.7919, Val. Loss: 4.9237\n",
      "Epoch [47/100], Loss: 5.3110, Val. Loss: 4.4178\n",
      "Epoch [48/100], Loss: 4.2437, Val. Loss: 4.4608\n",
      "Epoch [49/100], Loss: 5.3766, Val. Loss: 4.1458\n",
      "Epoch [50/100], Loss: 5.7359, Val. Loss: 4.2360\n",
      "Save intermediate state\n",
      "\n",
      "Epoch [51/100], Loss: 5.5284, Val. Loss: 5.1803\n",
      "Epoch [52/100], Loss: 5.7870, Val. Loss: 5.8066\n",
      "Epoch [53/100], Loss: 6.4227, Val. Loss: 5.6173\n",
      "Epoch [54/100], Loss: 4.8729, Val. Loss: 4.6372\n",
      "Epoch [55/100], Loss: 4.2031, Val. Loss: 3.3951\n",
      "Save intermediate state\n",
      "\n",
      "Epoch [56/100], Loss: 3.4926, Val. Loss: 3.3472\n",
      "Epoch [57/100], Loss: 3.4322, Val. Loss: 3.1735\n",
      "Epoch [58/100], Loss: 3.1169, Val. Loss: 3.0647\n",
      "Epoch [59/100], Loss: 3.0610, Val. Loss: 2.9109\n",
      "Epoch [60/100], Loss: 3.1910, Val. Loss: 3.1023\n",
      "Save intermediate state\n",
      "\n",
      "Epoch [61/100], Loss: 2.8793, Val. Loss: 2.6510\n",
      "Epoch [62/100], Loss: 2.7281, Val. Loss: 2.6058\n",
      "Epoch [63/100], Loss: 2.6606, Val. Loss: 3.2326\n",
      "Epoch [64/100], Loss: 2.7240, Val. Loss: 2.3591\n",
      "Epoch [65/100], Loss: 2.7829, Val. Loss: 2.2136\n",
      "Save intermediate state\n",
      "\n",
      "Epoch [66/100], Loss: 2.2240, Val. Loss: 2.1663\n",
      "Epoch [67/100], Loss: 2.4461, Val. Loss: 2.1519\n",
      "Epoch [68/100], Loss: 2.2327, Val. Loss: 1.9443\n",
      "Epoch [69/100], Loss: 2.1920, Val. Loss: 1.7875\n",
      "Epoch [70/100], Loss: 1.7786, Val. Loss: 1.6705\n",
      "Save intermediate state\n",
      "\n",
      "Epoch [71/100], Loss: 1.7463, Val. Loss: 1.5738\n",
      "Epoch [72/100], Loss: 1.7279, Val. Loss: 2.1230\n",
      "Epoch [73/100], Loss: 2.9546, Val. Loss: 1.5376\n",
      "Epoch [74/100], Loss: 1.6451, Val. Loss: 1.4525\n",
      "Epoch [75/100], Loss: 1.3225, Val. Loss: 0.9316\n",
      "Save intermediate state\n",
      "\n",
      "Epoch [76/100], Loss: 0.7161, Val. Loss: 0.6906\n",
      "Epoch [77/100], Loss: 0.5766, Val. Loss: 0.6892\n",
      "Epoch [78/100], Loss: 0.5557, Val. Loss: 0.6321\n",
      "Epoch [79/100], Loss: 0.4988, Val. Loss: 0.5928\n",
      "Epoch [80/100], Loss: 0.4542, Val. Loss: 0.5610\n",
      "Save intermediate state\n",
      "\n",
      "Epoch [81/100], Loss: 0.3917, Val. Loss: 0.6156\n",
      "Epoch [82/100], Loss: 0.4340, Val. Loss: 0.5246\n",
      "Epoch [83/100], Loss: 0.3423, Val. Loss: 0.5280\n",
      "Epoch [84/100], Loss: 0.3444, Val. Loss: 0.6207\n",
      "Epoch [85/100], Loss: 0.3963, Val. Loss: 0.6230\n",
      "Save intermediate state\n",
      "\n",
      "Epoch [86/100], Loss: 0.4528, Val. Loss: 0.4950\n",
      "Epoch [87/100], Loss: 0.4330, Val. Loss: 0.6098\n",
      "Epoch [88/100], Loss: 0.4093, Val. Loss: 0.6665\n",
      "Epoch [89/100], Loss: 0.3623, Val. Loss: 0.5697\n",
      "Epoch [90/100], Loss: 0.2971, Val. Loss: 0.5431\n",
      "Save intermediate state\n",
      "\n",
      "Epoch [91/100], Loss: 0.3351, Val. Loss: 0.4957\n",
      "Epoch [92/100], Loss: 0.3556, Val. Loss: 0.7205\n",
      "Epoch [93/100], Loss: 0.4805, Val. Loss: 0.4417\n",
      "Epoch [94/100], Loss: 0.4221, Val. Loss: 0.8811\n",
      "Epoch [95/100], Loss: 0.7789, Val. Loss: 0.4770\n",
      "Save intermediate state\n",
      "\n",
      "Epoch [96/100], Loss: 1.1356, Val. Loss: 0.9014\n",
      "Epoch [97/100], Loss: 0.7796, Val. Loss: 0.5711\n",
      "Epoch [98/100], Loss: 0.7504, Val. Loss: 1.2077\n",
      "Epoch [99/100], Loss: 0.6142, Val. Loss: 0.8049\n",
      "Epoch [100/100], Loss: 0.4244, Val. Loss: 0.9554\n",
      "Save intermediate state\n",
      "\n"
     ]
    }
   ],
   "source": [
    "# Save the log and the model every backup_epoch\n",
    "backup_epoch = 5\n",
    "path_intermediate_model = os.path.join(path_data, \"intermediate_models_step_6\")\n",
    "df_log = pd.DataFrame(columns=[\"Epoch\", \"Training loss\", \"Validation loss\"]) # Empty log\n",
    "path_log = os.path.join(path_data, \"intermediate_models_step_6\", 'log.csv')\n",
    "\n",
    "if not os.path.isdir(path_intermediate_model):\n",
    "    os.mkdir(path_intermediate_model)\n",
    "\n",
    "# Number of training epochs:\n",
    "n_epochs = 100\n",
    "\n",
    "training_loss_list = []\n",
    "validation_loss_list = []\n",
    "\n",
    "# Iterate over the epochs:\n",
    "for epoch in range(n_epochs):\n",
    "\n",
    "    # Set the model to Training mode: This interacts with certain kind of network layers (such as Dropout layers)\n",
    "    model.train()  \n",
    "\n",
    "    # Temporary variable to store the loss on the whole epoch as a convergence metric\n",
    "    running_loss = 0.0\n",
    "\n",
    "    # Iterate on the whole dataset using the dataloader.\n",
    "    for x_input, y_output in training_dataloader:\n",
    "        # Load inputs ad move to device (GPU)\n",
    "        x_input, y_output = x_input.to(device), y_output.to(device)\n",
    "\n",
    "        # Clear previous gradients\n",
    "        optimizer.zero_grad()  \n",
    "        \n",
    "        # Forward pass (model calls)\n",
    "        y_model = model(x_input)  \n",
    "\n",
    "        # Compute loss (supervised case)\n",
    "        loss = loss_fn(y_model, y_output)  \n",
    "        \n",
    "        # Backpropagation \n",
    "        loss.backward()  \n",
    "\n",
    "        # Update parameters (optimization step)\n",
    "        optimizer.step()  \n",
    "\n",
    "        # Update running loss as convergence metric\n",
    "        running_loss += loss.item()\n",
    "        \n",
    "\n",
    "    \n",
    "    ## Calculate loss on validation as an additional metric to evaluate overfitting\n",
    "    # Set the model to Evaluation mode:\n",
    "    model.eval()\n",
    "\n",
    "    # Temporary variable to store the validation loss:\n",
    "    running_val_loss = 0.0\n",
    "    \n",
    "    # Deactivate gradient computation\n",
    "    with torch.no_grad():\n",
    "        for x_input, y_output in validation_dataloader:\n",
    "            # Load inputs ad move to device (GPU)\n",
    "            x_input, y_output = x_input.to(device), y_output.to(device)\n",
    "\n",
    "        \n",
    "            # Forward pass (model calls)\n",
    "            y_model = model(x_input)\n",
    "\n",
    "            # Compute loss (supervised case)\n",
    "            loss = loss_fn(y_model, y_output)\n",
    "\n",
    "            # Update validation running loss as convergence metric\n",
    "            running_val_loss += loss.item()\n",
    "            \n",
    "    # Average epoch loss\n",
    "    epoch_training_loss = running_loss / len(training_dataloader)\n",
    "    epoch_validation_loss = running_val_loss / len(validation_dataloader)\n",
    "\n",
    "    # Append the losses to the list:\n",
    "    training_loss_list.append(epoch_training_loss)\n",
    "    validation_loss_list.append(epoch_validation_loss)\n",
    "            \n",
    "    # Convergence metric\n",
    "    print(f\"Epoch [{epoch+1}/{n_epochs}], Loss: {epoch_training_loss:.4f}, Val. Loss: {epoch_validation_loss:.4f}\")\n",
    "\n",
    "    # Append the values to the log\n",
    "    df_log.loc[len(df_log)] = [epoch+1, epoch_training_loss, epoch_validation_loss]\n",
    "\n",
    "    # If we are at a backup epoch, save the model and the log\n",
    "    if (epoch+1)%backup_epoch==0:\n",
    "        print(\"Save intermediate state\\n\")\n",
    "        \n",
    "        # Save log\n",
    "        df_log.to_csv(path_log, index=False)\n",
    "\n",
    "        # Save model weights\n",
    "        torch.save(model.state_dict(), os.path.join(path_intermediate_model, \"linear_model_intermediated\"+str(epoch+1)+\".pth\"))"
   ]
  },
  {
   "cell_type": "markdown",
   "id": "3265da7e-d418-43c0-99de-2e71e0ca7453",
   "metadata": {},
   "source": [
    "Plot the convergence graphs on training and validation sets:"
   ]
  },
  {
   "cell_type": "code",
   "execution_count": 11,
   "id": "ea287a97-5c3e-4547-811a-ccd7d48386a8",
   "metadata": {},
   "outputs": [
    {
     "data": {
      "text/plain": [
       "<matplotlib.legend.Legend at 0x1ac9c819b50>"
      ]
     },
     "execution_count": 11,
     "metadata": {},
     "output_type": "execute_result"
    },
    {
     "data": {
      "image/png": "[encoded data removed]",
      "text/plain": [
       "<Figure size 640x480 with 1 Axes>"
      ]
     },
     "metadata": {},
     "output_type": "display_data"
    }
   ],
   "source": [
    "fig, ax = plt.subplots()\n",
    "\n",
    "ax.plot(list(range(len(training_loss_list))), training_loss_list, color = 'black', label='Training loss')\n",
    "ax.plot(list(range(len(validation_loss_list))), validation_loss_list,  color = 'red', label='Validation loss')\n",
    "ax.legend()"
   ]
  },
  {
   "cell_type": "markdown",
   "id": "3b1f38ba-19c0-482d-aa89-86fb4c02e7a0",
   "metadata": {},
   "source": [
    "Plot the training dataset against the predictions:"
   ]
  },
  {
   "cell_type": "code",
   "execution_count": 12,
   "id": "790ef89a-60ff-4c1f-8620-35ea31a7b70b",
   "metadata": {},
   "outputs": [
    {
     "data": {
      "text/plain": [
       "<Axes: xlabel='x', ylabel='y'>"
      ]
     },
     "execution_count": 12,
     "metadata": {},
     "output_type": "execute_result"
    },
    {
     "data": {
      "image/png": "[encoded data removed]",
      "text/plain": [
       "<Figure size 640x480 with 1 Axes>"
      ]
     },
     "metadata": {},
     "output_type": "display_data"
    }
   ],
   "source": [
    "# Define the dataframe \n",
    "x_plot = np.array(training_df[\"x_range\"]) # Input\n",
    "y_plot = np.array(training_df[\"y_range\"]) # GT\n",
    "prediction_plot = [float(model(torch.tensor(i).view(1).to(device).float()).to('cpu')) for i in x_plot] # Predictions\n",
    "\n",
    "df_plot_train = pd.DataFrame({\"x\":np.append(x_plot,x_plot),\"y\":np.append(y_plot,prediction_plot),\"GT/Pred\":np.append([\"GT\"]*len(y_plot), [\"Pred\"]*len(prediction_plot))})\n",
    "                         \n",
    "# Scatter plot\n",
    "sns.scatterplot(data=df_plot_train, x=\"x\", y=\"y\", hue=\"GT/Pred\", alpha = 0.3)"
   ]
  },
  {
   "cell_type": "markdown",
   "id": "bd2397e7-cd50-400a-af3c-9a163b119adc",
   "metadata": {},
   "source": [
    "Save the ending state of the model for future use:"
   ]
  },
  {
   "cell_type": "code",
   "execution_count": 13,
   "id": "2230d808-9481-4867-aa30-928bfa800de7",
   "metadata": {},
   "outputs": [],
   "source": [
    "# Define the save path:\n",
    "path_save_model_weights = os.path.join(path_data, \"linear_model_final_weights.pth\")\n",
    "\n",
    "# Save model weights\n",
    "torch.save(model.state_dict(), path_save_model_weights)"
   ]
  },
  {
   "cell_type": "markdown",
   "id": "7afcc140-35d7-4738-8abb-d7120da1d1ca",
   "metadata": {},
   "source": [
    "## Load model and inference\n",
    "We want to load the model for inference. We have only saved the weights, so we need to define the architecture first and then load the weights into the model."
   ]
  },
  {
   "cell_type": "code",
   "execution_count": 14,
   "id": "13c1c688-0109-47e6-8820-23b55216069c",
   "metadata": {},
   "outputs": [
    {
     "data": {
      "text/plain": [
       "<All keys matched successfully>"
      ]
     },
     "execution_count": 14,
     "metadata": {},
     "output_type": "execute_result"
    }
   ],
   "source": [
    "# Define the architecture\n",
    "model_inference = nn.Sequential(\n",
    "    nn.Linear(1, 4),\n",
    "    nn.ReLU(),\n",
    "    nn.Linear(4,8),\n",
    "    nn.ReLU(),\n",
    "    nn.Linear(8,4),\n",
    "    nn.ReLU(),\n",
    "    nn.Linear(4, 1)\n",
    ")\n",
    "model_inference.to(device)\n",
    "model_inference = model.float()\n",
    "\n",
    "# Load weigths\n",
    "model_inference.load_state_dict(torch.load(path_save_model_weights, weights_only=True)) "
   ]
  },
  {
   "cell_type": "markdown",
   "id": "f894cf14-a0cc-4456-bae3-ace1546527b8",
   "metadata": {},
   "source": [
    "The model can now be used to do inference on unseen data:"
   ]
  },
  {
   "cell_type": "code",
   "execution_count": 15,
   "id": "54e2c27e-3a21-4dcd-aaa1-0995c1d5a9f4",
   "metadata": {},
   "outputs": [
    {
     "data": {
      "text/plain": [
       "<Axes: xlabel='x', ylabel='y'>"
      ]
     },
     "execution_count": 15,
     "metadata": {},
     "output_type": "execute_result"
    },
    {
     "data": {
      "image/png": "[encoded data removed]",
      "text/plain": [
       "<Figure size 640x480 with 1 Axes>"
      ]
     },
     "metadata": {},
     "output_type": "display_data"
    }
   ],
   "source": [
    "# Define the dataframe \n",
    "x_plot = np.array(test_df[\"x_range\"]) # Input\n",
    "y_plot = np.array(test_df[\"y_range\"]) # GT\n",
    "prediction_plot = [float(model_inference(torch.tensor(i).view(1).to(device).float()).to('cpu')) for i in x_plot] # Predictions\n",
    "\n",
    "df_plot_test = pd.DataFrame({\"x\":np.append(x_plot,x_plot),\"y\":np.append(y_plot,prediction_plot),\"GT/Pred\":np.append([\"GT\"]*len(y_plot), [\"Pred\"]*len(prediction_plot))})\n",
    "                         \n",
    "# Scatter plot\n",
    "sns.scatterplot(data=df_plot_test, x=\"x\", y=\"y\", hue=\"GT/Pred\", alpha = 0.3)"
   ]
  }
 ],
 "metadata": {
  "kernelspec": {
   "display_name": "Python 3 (ipykernel)",
   "language": "python",
   "name": "python3"
  },
  "language_info": {
   "codemirror_mode": {
    "name": "ipython",
    "version": 3
   },
   "file_extension": ".py",
   "mimetype": "text/x-python",
   "name": "python",
   "nbconvert_exporter": "python",
   "pygments_lexer": "ipython3",
   "version": "3.11.11"
  }
 },
 "nbformat": 4,
 "nbformat_minor": 5
}
