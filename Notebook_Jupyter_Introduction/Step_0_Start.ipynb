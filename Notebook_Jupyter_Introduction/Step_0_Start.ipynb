{
 "cells": [
  {
   "attachments": {},
   "cell_type": "markdown",
   "id": "f5a0eb27-69e0-4ff7-aad6-b042e67f8dd1",
   "metadata": {},
   "source": [
    "# Chapter 0: Start the journey\n",
    "This notebook is only intended to provide basic instructions on how to set up an environment for testing and experimenting with the techniques provided in these tutorials/notebooks.\n",
    "\n",
    "These notebooks are written by Giulio Del Corso (https://www.isti.cnr.it/en/about/people-detail/1005/Giulio_Del_Corso)\n",
    "\n",
    "For any issues/bugs or even for collaboration, just write me: giulio.delcorso@isti.cnr.it\n",
    "\n",
    "The theoretical introduction to the techniques presented in these notebooks is the review paper: \\\n",
    "*\"Shedding light on Uncertainties in Machine Learning: formal derivation and optimal model selection\"* \\\n",
    "by G. Del Corso, S. Colantonio and C. Caudai."
   ]
  },
  {
   "cell_type": "markdown",
   "id": "d64a8e8d-2061-448e-a902-d2485180a73b",
   "metadata": {},
   "source": [
    "## S-0.1: Set up a Conda environment\n",
    "Setting up a conda environment can prevent damage to the main Python environment and allow easier experimentation.\n",
    "\n",
    "Once Conda is installed on the computer, a new environment (here called `my_environment`) can be created using the command: \\\n",
    "`conda create -n my_environment` \n",
    "\n",
    "To check that the environment has been successfully installed, use the command: \\\n",
    "`conda env list` \n",
    "\n",
    "Then we can move on the new environment by using the command: \\\n",
    "`conda activate my_environment` "
   ]
  },
  {
   "cell_type": "markdown",
   "id": "e4d7039d-cb03-4fce-aa38-10c0c1235bd4",
   "metadata": {},
   "source": [
    "## S-0.2: Install Pytorch\n",
    "Usually on Anaconda it is better to install program by the inner `conda install <package>`. However, on Windows we obtained better result by installing pytorch using pip3: \\\n",
    "`pip3 install torch torchvision torchaudio --index-url https://download.pytorch.org/whl/cu121`\n",
    "\n",
    "To test if Pytorch (with GPU acceleration) is correctly installed on your computer, use  \\\n",
    "`python` # Open python terminal \\\n",
    "`import torch` # To import the pytorch package \\\n",
    "`torch.cuda.is_available()` # Return GPU or CPU"
   ]
  },
  {
   "cell_type": "markdown",
   "id": "16c993fe-ac2a-49ae-9eff-e0f144050c3e",
   "metadata": {},
   "source": [
    "## S-0.3: Install Jupyter and Spyder:\n",
    "Install an IDE on the environment (we chose Spyder for easy data visualisation) and Jupyter to read the notebooks."
   ]
  }
 ],
 "metadata": {
  "kernelspec": {
   "display_name": "Python 3 (ipykernel)",
   "language": "python",
   "name": "python3"
  },
  "language_info": {
   "codemirror_mode": {
    "name": "ipython",
    "version": 3
   },
   "file_extension": ".py",
   "mimetype": "text/x-python",
   "name": "python",
   "nbconvert_exporter": "python",
   "pygments_lexer": "ipython3",
   "version": "3.11.11"
  }
 },
 "nbformat": 4,
 "nbformat_minor": 5
}
