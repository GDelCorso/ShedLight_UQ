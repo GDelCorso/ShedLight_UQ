{
 "cells": [
  {
   "cell_type": "markdown",
   "id": "d9934259-870f-4f18-9f45-726b8ca51a39",
   "metadata": {},
   "source": [
    "# Autoencoders\n",
    "This chapter aims to show one autoencoder model defined in Pytorch from scratches."
   ]
  },
  {
   "cell_type": "code",
   "execution_count": 1,
   "id": "f777bbad-4eb5-4c15-98de-e0c9988501d2",
   "metadata": {},
   "outputs": [],
   "source": [
    "# Libraries\n",
    "import os\n",
    "import numpy as np\n",
    "import matplotlib.pyplot as plt\n",
    "import seaborn as sns\n",
    "import pandas as pd\n",
    "\n",
    "from pathlib import Path\n",
    "\n",
    "import zipfile # To zip/unzip image folder\n",
    "\n",
    "import random\n",
    "\n",
    "import shutil\n",
    "\n",
    "import torch\n",
    "import torch.nn as nn\n",
    "import torch.optim as optim\n",
    "\n",
    "from torchvision import transforms\n",
    "import torchvision.transforms.functional as F\n",
    "\n",
    "from PIL import Image\n",
    "\n",
    "from torch.utils.data import Dataset\n",
    "from torch.utils.data import DataLoader\n",
    "\n",
    "path_pardir = Path(os.getcwd()).parent\n",
    "path_data = os.path.join(path_pardir, 'Data')"
   ]
  },
  {
   "cell_type": "markdown",
   "id": "e2ce71aa-302b-425e-8243-83f881e0402c",
   "metadata": {},
   "source": [
    "# Classical autoencoder for image reconstruction\n",
    "We want to introduce an elementary autoencoder model on the supplied image *autoencoder* dataset.\n",
    "\n",
    "First we need to decompress the *autoncoder* folder contained in the *Data* folder."
   ]
  },
  {
   "cell_type": "code",
   "execution_count": 2,
   "id": "844fe52b-dad5-4e70-ba8a-c6650b088cbc",
   "metadata": {},
   "outputs": [],
   "source": [
    "path_compressed_folder = os.path.join(path_data, 'autoencoding.zip')\n",
    "path_uncompressed_folder = os.path.join(path_data, 'autoencoding')\n",
    "path_images = os.path.join(path_uncompressed_folder, 'dataset_images')\n",
    "\n",
    "# Check if there is already an existing folder \"autoencoding\" and remove it\n",
    "if os.path.isdir(path_uncompressed_folder):\n",
    "    shutil.rmtree(path_uncompressed_folder)\n",
    "\n",
    "# Unzip the autoencoding.zip folder\n",
    "with zipfile.ZipFile(path_compressed_folder,\"r\") as zip_ref:\n",
    "    zip_ref.extractall(path_data)"
   ]
  },
  {
   "cell_type": "markdown",
   "id": "8d3f181f-dfa8-4401-92d2-e4f9db99301c",
   "metadata": {},
   "source": [
    "We define the device:"
   ]
  },
  {
   "cell_type": "code",
   "execution_count": 3,
   "id": "a6bbabcd-34a7-4ec8-b149-7bf200842623",
   "metadata": {},
   "outputs": [
    {
     "name": "stdout",
     "output_type": "stream",
     "text": [
      "Device: cuda\n"
     ]
    }
   ],
   "source": [
    "device = torch.device(\"cuda\" if torch.cuda.is_available() else \"cpu\")\n",
    "print(\"Device:\", device)"
   ]
  },
  {
   "cell_type": "markdown",
   "id": "f5af25bc-ef8d-45bb-aa98-167f3debc796",
   "metadata": {},
   "source": [
    "Read the existing database and subdivide it in training/validation/test:"
   ]
  },
  {
   "cell_type": "code",
   "execution_count": 4,
   "id": "b53ed672-b8fd-49d2-820c-632d2a068d09",
   "metadata": {},
   "outputs": [
    {
     "name": "stdout",
     "output_type": "stream",
     "text": [
      "Dataframe length: 5997\n",
      "Training length: 4797\n",
      "Validation length: 600\n",
      "Test length: 600\n"
     ]
    },
    {
     "data": {
      "text/html": [
       "<div>\n",
       "<style scoped>\n",
       "    .dataframe tbody tr th:only-of-type {\n",
       "        vertical-align: middle;\n",
       "    }\n",
       "\n",
       "    .dataframe tbody tr th {\n",
       "        vertical-align: top;\n",
       "    }\n",
       "\n",
       "    .dataframe thead th {\n",
       "        text-align: right;\n",
       "    }\n",
       "</style>\n",
       "<table border=\"1\" class=\"dataframe\">\n",
       "  <thead>\n",
       "    <tr style=\"text-align: right;\">\n",
       "      <th></th>\n",
       "      <th>Unnamed: 0</th>\n",
       "      <th>centre_x</th>\n",
       "      <th>centre_y</th>\n",
       "      <th>radius</th>\n",
       "      <th>rotation_(degrees)</th>\n",
       "      <th>deformation</th>\n",
       "      <th>blur</th>\n",
       "      <th>white_noise</th>\n",
       "      <th>holes</th>\n",
       "      <th>additive_noise_regression</th>\n",
       "      <th>...</th>\n",
       "      <th>regression_radius</th>\n",
       "      <th>regression_radius_noise</th>\n",
       "      <th>regression_centering</th>\n",
       "      <th>regression_centering_noise</th>\n",
       "      <th>shape_noisy</th>\n",
       "      <th>color_noisy</th>\n",
       "      <th>correct_class</th>\n",
       "      <th>noisy_class</th>\n",
       "      <th>regression_area</th>\n",
       "      <th>regression_area_noise</th>\n",
       "    </tr>\n",
       "  </thead>\n",
       "  <tbody>\n",
       "    <tr>\n",
       "      <th>2041</th>\n",
       "      <td>2041</td>\n",
       "      <td>44.860387</td>\n",
       "      <td>40.857013</td>\n",
       "      <td>30.0</td>\n",
       "      <td>170.254888</td>\n",
       "      <td>0.0</td>\n",
       "      <td>0.0</td>\n",
       "      <td>0.0</td>\n",
       "      <td>0.0</td>\n",
       "      <td>0.0</td>\n",
       "      <td>...</td>\n",
       "      <td>30.0</td>\n",
       "      <td>30.0</td>\n",
       "      <td>10.488557</td>\n",
       "      <td>10.488557</td>\n",
       "      <td>3</td>\n",
       "      <td>(255, 255, 255)</td>\n",
       "      <td>False</td>\n",
       "      <td>False</td>\n",
       "      <td>14.185</td>\n",
       "      <td>1418.457</td>\n",
       "    </tr>\n",
       "    <tr>\n",
       "      <th>5347</th>\n",
       "      <td>5347</td>\n",
       "      <td>59.902823</td>\n",
       "      <td>41.954615</td>\n",
       "      <td>30.0</td>\n",
       "      <td>277.362188</td>\n",
       "      <td>0.0</td>\n",
       "      <td>0.0</td>\n",
       "      <td>0.0</td>\n",
       "      <td>0.0</td>\n",
       "      <td>0.0</td>\n",
       "      <td>...</td>\n",
       "      <td>30.0</td>\n",
       "      <td>30.0</td>\n",
       "      <td>12.759080</td>\n",
       "      <td>12.759080</td>\n",
       "      <td>4</td>\n",
       "      <td>(255, 255, 255)</td>\n",
       "      <td>False</td>\n",
       "      <td>False</td>\n",
       "      <td>20.581</td>\n",
       "      <td>2058.105</td>\n",
       "    </tr>\n",
       "    <tr>\n",
       "      <th>5807</th>\n",
       "      <td>5807</td>\n",
       "      <td>59.391612</td>\n",
       "      <td>55.308290</td>\n",
       "      <td>30.0</td>\n",
       "      <td>349.345683</td>\n",
       "      <td>0.0</td>\n",
       "      <td>0.0</td>\n",
       "      <td>0.0</td>\n",
       "      <td>0.0</td>\n",
       "      <td>0.0</td>\n",
       "      <td>...</td>\n",
       "      <td>30.0</td>\n",
       "      <td>30.0</td>\n",
       "      <td>10.787971</td>\n",
       "      <td>10.787971</td>\n",
       "      <td>4</td>\n",
       "      <td>(255, 255, 255)</td>\n",
       "      <td>False</td>\n",
       "      <td>False</td>\n",
       "      <td>20.581</td>\n",
       "      <td>2058.105</td>\n",
       "    </tr>\n",
       "    <tr>\n",
       "      <th>717</th>\n",
       "      <td>717</td>\n",
       "      <td>44.489348</td>\n",
       "      <td>59.616498</td>\n",
       "      <td>30.0</td>\n",
       "      <td>101.714630</td>\n",
       "      <td>0.0</td>\n",
       "      <td>0.0</td>\n",
       "      <td>0.0</td>\n",
       "      <td>0.0</td>\n",
       "      <td>0.0</td>\n",
       "      <td>...</td>\n",
       "      <td>30.0</td>\n",
       "      <td>30.0</td>\n",
       "      <td>11.083516</td>\n",
       "      <td>11.083516</td>\n",
       "      <td>0</td>\n",
       "      <td>(255, 255, 255)</td>\n",
       "      <td>False</td>\n",
       "      <td>False</td>\n",
       "      <td>30.664</td>\n",
       "      <td>3066.406</td>\n",
       "    </tr>\n",
       "  </tbody>\n",
       "</table>\n",
       "<p>4 rows × 28 columns</p>\n",
       "</div>"
      ],
      "text/plain": [
       "      Unnamed: 0   centre_x   centre_y  radius  rotation_(degrees)  \\\n",
       "2041        2041  44.860387  40.857013    30.0          170.254888   \n",
       "5347        5347  59.902823  41.954615    30.0          277.362188   \n",
       "5807        5807  59.391612  55.308290    30.0          349.345683   \n",
       "717          717  44.489348  59.616498    30.0          101.714630   \n",
       "\n",
       "      deformation  blur  white_noise  holes  additive_noise_regression  ...  \\\n",
       "2041          0.0   0.0          0.0    0.0                        0.0  ...   \n",
       "5347          0.0   0.0          0.0    0.0                        0.0  ...   \n",
       "5807          0.0   0.0          0.0    0.0                        0.0  ...   \n",
       "717           0.0   0.0          0.0    0.0                        0.0  ...   \n",
       "\n",
       "      regression_radius regression_radius_noise  regression_centering  \\\n",
       "2041               30.0                    30.0             10.488557   \n",
       "5347               30.0                    30.0             12.759080   \n",
       "5807               30.0                    30.0             10.787971   \n",
       "717                30.0                    30.0             11.083516   \n",
       "\n",
       "     regression_centering_noise shape_noisy      color_noisy  correct_class  \\\n",
       "2041                  10.488557           3  (255, 255, 255)          False   \n",
       "5347                  12.759080           4  (255, 255, 255)          False   \n",
       "5807                  10.787971           4  (255, 255, 255)          False   \n",
       "717                   11.083516           0  (255, 255, 255)          False   \n",
       "\n",
       "      noisy_class  regression_area  regression_area_noise  \n",
       "2041        False           14.185               1418.457  \n",
       "5347        False           20.581               2058.105  \n",
       "5807        False           20.581               2058.105  \n",
       "717         False           30.664               3066.406  \n",
       "\n",
       "[4 rows x 28 columns]"
      ]
     },
     "execution_count": 4,
     "metadata": {},
     "output_type": "execute_result"
    }
   ],
   "source": [
    "chosen_df = \"combined_dataframe.csv\"\n",
    "\n",
    "full_df = pd.read_csv(os.path.join(path_uncompressed_folder, chosen_df))\n",
    "\n",
    "# Random reorder given a seed\n",
    "full_df = full_df.sample(frac=1, random_state=1902)\n",
    "\n",
    "# Subdivide training/validation/test\n",
    "training_df = full_df.iloc[:int(len(full_df)*80/100)]\n",
    "validation_df = full_df.iloc[int(len(full_df)*80/100):int(len(full_df)*90/100)]\n",
    "test_df = full_df.iloc[int(len(full_df)*90/100):]\n",
    "\n",
    "# Print dataframes lenght\n",
    "print(\"Dataframe length:\", len(full_df))\n",
    "print(\"Training length:\", len(training_df))\n",
    "print(\"Validation length:\", len(validation_df))\n",
    "print(\"Test length:\", len(test_df))\n",
    "\n",
    "# Show the first 4 rows of the dataset:\n",
    "full_df.head(4)"
   ]
  },
  {
   "cell_type": "markdown",
   "id": "2a877fea-d0bf-4680-aa52-7709622f43e4",
   "metadata": {},
   "source": [
    "Define a custom dataset that returns an image:"
   ]
  },
  {
   "cell_type": "code",
   "execution_count": 5,
   "id": "913ecc36-9527-47b5-acc4-d846b4e0706d",
   "metadata": {},
   "outputs": [
    {
     "name": "stdout",
     "output_type": "stream",
     "text": [
      "Length training dataset: 4797\n"
     ]
    }
   ],
   "source": [
    "# Dataset definition:\n",
    "class CustomDataset(Dataset):\n",
    "    def __init__(self, selected_df, path_images, image_size=(64, 64), augmentation=False, grayscale=False):\n",
    "        self.df = selected_df\n",
    "        \n",
    "        self.path_images = path_images\n",
    "        \n",
    "        self.transform = transforms.Compose([\n",
    "            transforms.Resize(image_size),       # Resize to a fixed size\n",
    "            transforms.ToTensor()                # Convert to tensor (scales to [0,1])\n",
    "        ])\n",
    "\n",
    "        self.augmentation = augmentation\n",
    "\n",
    "        self.grayscale = grayscale\n",
    "        \n",
    "        \n",
    "    def __len__(self):\n",
    "        return len(self.df)\n",
    "\n",
    "    \n",
    "    def __getitem__(self, idx):\n",
    "        img_ID =  str(self.df.iloc[idx]['ID_image'])+'.png'\n",
    "        path_img = os.path.join(self.path_images, img_ID)\n",
    "        \n",
    "        image = Image.open(path_img).convert(\"RGB\")  # Ensure 3 channels\n",
    "\n",
    "        # If augmentation, randomly sample\n",
    "        if self.augmentation:\n",
    "            # 90*random_rotation augmentation\n",
    "            random_rotation = random.randint(0,3)\n",
    "            image = image.rotate(90*random_rotation)\n",
    "\n",
    "            # random flip augmentation\n",
    "            random_flip = random.randint(0,1)\n",
    "            if random_flip:\n",
    "                image = image.transpose(Image.FLIP_LEFT_RIGHT)\n",
    "\n",
    "        image = self.transform(image)\n",
    "\n",
    "        # If grayscale, ensure the tensor has shape (1, H, W)\n",
    "        if self.grayscale:\n",
    "            image = image[:1, :, :]  # Ensures a single channel output\n",
    "        \n",
    "        return image\n",
    "\n",
    "\n",
    "\n",
    "# Initialize Training dataset and show outputs and properties:\n",
    "training_dataset = CustomDataset(selected_df=training_df, path_images=path_images, augmentation=True, grayscale=True)\n",
    "print(\"Length training dataset:\", training_dataset.__len__())\n",
    "\n",
    "# Initialize validation and test datasets:\n",
    "validation_dataset = CustomDataset(selected_df=validation_df, path_images=path_images, grayscale=True)\n",
    "test_dataset = CustomDataset(selected_df=test_df, path_images=path_images, grayscale=True)"
   ]
  },
  {
   "cell_type": "markdown",
   "id": "4e9ee61b-c379-4d34-af2d-5620dd6d578a",
   "metadata": {},
   "source": [
    "Show an example of sample image, due Data augmentation the image is randomly augmented each time:"
   ]
  },
  {
   "cell_type": "code",
   "execution_count": 6,
   "id": "ff6991ad-e546-423f-9386-7319bfb8de1d",
   "metadata": {},
   "outputs": [
    {
     "data": {
      "image/png": "[encoded data removed]",
      "text/plain": [
       "<Figure size 640x480 with 1 Axes>"
      ]
     },
     "metadata": {},
     "output_type": "display_data"
    }
   ],
   "source": [
    "# Select an index\n",
    "index_example = 7\n",
    "\n",
    "# Get the item corresponding to the given index\n",
    "image_tensor = training_dataset.__getitem__(index_example)\n",
    "\n",
    "# Convert to NumPy format for plotting (0-1) -> (0-255)\n",
    "image_np = F.to_pil_image(image_tensor)  # Convert back to PIL\n",
    "\n",
    "# Plot the image\n",
    "plt.imshow(image_np)\n",
    "plt.axis(\"off\")  # Hide axes\n",
    "plt.title(f\"Image Size: {image_tensor.size()}\") # Plot the size of the tensor\n",
    "plt.show()"
   ]
  },
  {
   "cell_type": "markdown",
   "id": "5cb67a81-b590-4f30-bf8f-45fe61320a24",
   "metadata": {},
   "source": [
    "Define the dataloaders from the CustomDataset:"
   ]
  },
  {
   "cell_type": "code",
   "execution_count": 7,
   "id": "b6c7619a-f2d4-44e0-9adf-0daf26b76871",
   "metadata": {},
   "outputs": [],
   "source": [
    "# Size of each batch\n",
    "batch_size = 10 \n",
    "\n",
    "# Define 3 DataLoaders: Training/Validation/Test \n",
    "training_dataloader = DataLoader(training_dataset, batch_size=batch_size, shuffle=True)\n",
    "validation_dataloader = DataLoader(validation_dataset, batch_size=batch_size, shuffle=False)\n",
    "test_dataloader = DataLoader(test_dataset, batch_size=1, shuffle=False)"
   ]
  },
  {
   "cell_type": "markdown",
   "id": "9581717b-b383-43b2-8d8c-b0fd066fcd03",
   "metadata": {},
   "source": [
    "The model is defined as an **encoder** that finds a latent representation of the input and a **decoder** that reconstructs the input from the latent representation. The output of the combined model (*ImageAutoencoder*) is the reconstructed input, but the encoded (latent space) representation is the one usually used for classification/regression/etc."
   ]
  },
  {
   "cell_type": "code",
   "execution_count": 8,
   "id": "838c3d5e-7b21-479c-a5a1-f1ac3ad1d3ee",
   "metadata": {},
   "outputs": [
    {
     "name": "stdout",
     "output_type": "stream",
     "text": [
      "Output shape: torch.Size([1, 1, 64, 64])\n"
     ]
    }
   ],
   "source": [
    "class ImageAutoencoder(nn.Module):\n",
    "    def __init__(self, latent_space_size=8):\n",
    "        '''\n",
    "        latent_space_size : (int) number of dimensions of the latent space\n",
    "        '''\n",
    "        \n",
    "        super(ImageAutoencoder, self).__init__()\n",
    "\n",
    "        # Encoder: Reduces image size and learns feature representations\n",
    "        self.encoder = nn.Sequential(\n",
    "            # Convolutional layer with stride > 1 to downsample the image\n",
    "            nn.Conv2d(1, 16, kernel_size=3, stride=2, padding=1),            # (1, 64, 64) → (16, 32, 32) - Downsample\n",
    "            nn.ReLU(),\n",
    "            \n",
    "            # Convolutional layer with stride > 1 to downsample the image\n",
    "            nn.Conv2d(16, 32, kernel_size=3, stride=2, padding=1),           # (16, 32, 32) → (32, 16, 16) - Downsample\n",
    "            nn.ReLU(),\n",
    "\n",
    "            # Convolutional layer with stride > 1 to downsample the image\n",
    "            nn.Conv2d(32, 64, kernel_size=3, stride=2, padding=1),           # (32, 16, 16) → (64, 8, 8) - Downsample\n",
    "            nn.ReLU(),\n",
    "\n",
    "            # Convolutional layer with stride > 1 to downsample the image\n",
    "            nn.Conv2d(64, 128, kernel_size=3, stride=2, padding=1),          # (64, 8, 8) → (128, 4, 4) - Downsample\n",
    "            nn.ReLU(),\n",
    "\n",
    "            # Flatten layer to obtain R^(128*4*4) vector with dropout to improve training\n",
    "            nn.Flatten(),\n",
    "            nn.Dropout(0.2),\n",
    "\n",
    "            # Linear layer to reduce the flattened vector to latent_space_size\n",
    "            nn.Linear(128 * 4 * 4, latent_space_size)  \n",
    "        )\n",
    "\n",
    "        # Decoder: Reconstructs the original image from the latent space\n",
    "        self.decoder = nn.Sequential(\n",
    "            # Linear layer to expand from latent_space_size to the flattened vector size (128 * 4 * 4)\n",
    "            nn.Linear(latent_space_size, 128 * 4 * 4),  \n",
    "            #nn.ReLU(),\n",
    "            \n",
    "            # Unflatten from (128 *4 * 4) to a tensor (128, 4, 4) with dropout to improve training\n",
    "            nn.Unflatten(1, (128, 4, 4)),\n",
    "            nn.Dropout(0.2),\n",
    "\n",
    "            # Pseudo-Inverse 2D Convolution with stride and output_padding to upsample\n",
    "            nn.ConvTranspose2d(128, 64, kernel_size=3, stride=2, padding=1, output_padding=1),  # (128, 4, 4) → (64, 8, 8) - Upsample\n",
    "            nn.ReLU(),\n",
    "\n",
    "            # Pseudo-Inverse 2D Convolution with stride and output_padding to upsample\n",
    "            nn.ConvTranspose2d(64, 32, kernel_size=3, stride=2, padding=1, output_padding=1),   # (64, 8, 8) → (32, 16, 16) - Upsample\n",
    "            nn.ReLU(),\n",
    "\n",
    "            # Pseudo-Inverse 2D Convolution with stride and output_padding to upsample\n",
    "            nn.ConvTranspose2d(32, 16, kernel_size=3, stride=2, padding=1, output_padding=1),   # (32, 16, 16) → (16, 32, 32) - Upsample\n",
    "            nn.ReLU(),\n",
    "\n",
    "            # Pseudo-Inverse 2D Convolution with stride and output_padding to upsample\n",
    "            nn.ConvTranspose2d(16, 1, kernel_size=3, stride=2, padding=1, output_padding=1),    # (16, 32, 32) → (1, 64, 64) - Upsample\n",
    "\n",
    "            # Sigmoid output normalization to ensure tensor in the proper range [0,1]\n",
    "            nn.Sigmoid()\n",
    "        )\n",
    "\n",
    "\n",
    "    \n",
    "    # Forward method\n",
    "    def forward(self, x):\n",
    "        \n",
    "        # Encode\n",
    "        encoded = self.encoder(x)  \n",
    "        # Decode\n",
    "        decoded = self.decoder(encoded)  \n",
    "        \n",
    "        return decoded\n",
    "\n",
    "\n",
    "\n",
    "# Initialize the model and move it to the device\n",
    "model = ImageAutoencoder().to(device)\n",
    "\n",
    "# Example input (assuming grayscale images of size 64x64)\n",
    "x = torch.randn(1, 1, 64, 64).to(device)  # Batch size 1, 1 channel, 64x64 image\n",
    "output = model(x)\n",
    "\n",
    "print(\"Output shape:\", output.shape)  # Expected: (1,1,64,64) - (Batch, channels, resolution, resolution)"
   ]
  },
  {
   "cell_type": "markdown",
   "id": "e7b0eaec-1289-407a-a501-88242c00ea52",
   "metadata": {},
   "source": [
    "A possible loss for reconstruction is Mean Squared Error. When working with masks, Binary Cross Entropy (or Dice Loss) would be a better choice to ensure correct representation, but we used MSE for ease of generalisation."
   ]
  },
  {
   "cell_type": "code",
   "execution_count": 9,
   "id": "8ed00857-efa7-4764-be58-43065cafbde4",
   "metadata": {},
   "outputs": [],
   "source": [
    "# Loss function (Mean Squared Error):\n",
    "loss_fn = nn.MSELoss() \n",
    "\n",
    "# Optimizer (Adam): \n",
    "learning_rate = 1e-3\n",
    "optimizer = optim.Adam(model.parameters(), lr=learning_rate)"
   ]
  },
  {
   "cell_type": "markdown",
   "id": "20643542-79a0-4ba0-a081-49b533216132",
   "metadata": {},
   "source": [
    "Training cycle:"
   ]
  },
  {
   "cell_type": "code",
   "execution_count": 10,
   "id": "436af5ce-d6b7-4888-b806-305734683962",
   "metadata": {
    "scrolled": true
   },
   "outputs": [
    {
     "name": "stdout",
     "output_type": "stream",
     "text": [
      "Epoch [1/30], Loss: 0.0404, Val. Loss: 0.0156\n",
      "Epoch [2/30], Loss: 0.0160, Val. Loss: 0.0138\n",
      "Epoch [3/30], Loss: 0.0126, Val. Loss: 0.0091\n",
      "Epoch [4/30], Loss: 0.0087, Val. Loss: 0.0055\n",
      "Epoch [5/30], Loss: 0.0068, Val. Loss: 0.0039\n",
      "Epoch [6/30], Loss: 0.0058, Val. Loss: 0.0043\n",
      "Epoch [7/30], Loss: 0.0052, Val. Loss: 0.0037\n",
      "Epoch [8/30], Loss: 0.0048, Val. Loss: 0.0030\n",
      "Epoch [9/30], Loss: 0.0045, Val. Loss: 0.0030\n",
      "Epoch [10/30], Loss: 0.0043, Val. Loss: 0.0025\n",
      "Epoch [11/30], Loss: 0.0041, Val. Loss: 0.0026\n",
      "Epoch [12/30], Loss: 0.0039, Val. Loss: 0.0026\n",
      "Epoch [13/30], Loss: 0.0037, Val. Loss: 0.0019\n",
      "Epoch [14/30], Loss: 0.0036, Val. Loss: 0.0023\n",
      "Epoch [15/30], Loss: 0.0036, Val. Loss: 0.0022\n",
      "Epoch [16/30], Loss: 0.0035, Val. Loss: 0.0021\n",
      "Epoch [17/30], Loss: 0.0034, Val. Loss: 0.0019\n",
      "Epoch [18/30], Loss: 0.0033, Val. Loss: 0.0019\n",
      "Epoch [19/30], Loss: 0.0032, Val. Loss: 0.0020\n",
      "Epoch [20/30], Loss: 0.0032, Val. Loss: 0.0017\n",
      "Epoch [21/30], Loss: 0.0032, Val. Loss: 0.0018\n",
      "Epoch [22/30], Loss: 0.0031, Val. Loss: 0.0016\n",
      "Epoch [23/30], Loss: 0.0030, Val. Loss: 0.0017\n",
      "Epoch [24/30], Loss: 0.0029, Val. Loss: 0.0017\n",
      "Epoch [25/30], Loss: 0.0029, Val. Loss: 0.0018\n",
      "Epoch [26/30], Loss: 0.0029, Val. Loss: 0.0016\n",
      "Epoch [27/30], Loss: 0.0028, Val. Loss: 0.0015\n",
      "Epoch [28/30], Loss: 0.0028, Val. Loss: 0.0015\n",
      "Epoch [29/30], Loss: 0.0028, Val. Loss: 0.0015\n",
      "Epoch [30/30], Loss: 0.0027, Val. Loss: 0.0015\n"
     ]
    }
   ],
   "source": [
    "# Number of training epochs:\n",
    "n_epochs = 30\n",
    "\n",
    "training_loss_list = []\n",
    "validation_loss_list = []\n",
    "\n",
    "# Iterate over the epochs:\n",
    "for epoch in range(n_epochs):\n",
    "\n",
    "    # Set the model to Training mode: This interacts with certain kind of network layers (such as Dropout layers)\n",
    "    model.train()  \n",
    "\n",
    "    # Temporary variable to store the loss on the whole epoch as a convergence metric\n",
    "    running_loss = 0.0\n",
    "\n",
    "    # Iterate on the whole dataset using the dataloader.\n",
    "    for img_input_tmp in training_dataloader:\n",
    "        # Load inputs ad move to device (GPU)\n",
    "        img_input_tmp = img_input_tmp.to(device)\n",
    "\n",
    "        # Clear previous gradients\n",
    "        optimizer.zero_grad()  \n",
    "        \n",
    "        # Forward pass (model calls)\n",
    "        img_output_tmp = model(img_input_tmp)  \n",
    "\n",
    "        # Compute loss \n",
    "        loss = loss_fn(img_output_tmp, img_input_tmp)  \n",
    "        \n",
    "        # Backpropagation \n",
    "        loss.backward()  \n",
    "\n",
    "        # Update parameters (optimization step)\n",
    "        optimizer.step()  \n",
    "\n",
    "        # Update running loss as convergence metric\n",
    "        running_loss += loss.item()\n",
    "        \n",
    "\n",
    "    \n",
    "    ## Calculate loss on validation as an additional metric to evaluate overfitting\n",
    "    # Set the model to Evaluation mode:\n",
    "    model.eval()\n",
    "\n",
    "    # Temporary variable to store the validation loss:\n",
    "    running_val_loss = 0.0\n",
    "    \n",
    "    # Deactivate gradient computation\n",
    "    with torch.no_grad():\n",
    "        for img_input_tmp in validation_dataloader:\n",
    "            # Load inputs ad move to device (GPU)\n",
    "            img_input_tmp = img_input_tmp.to(device)\n",
    "\n",
    "            # Forward pass (model calls)\n",
    "            img_output_tmp = model(img_input_tmp)\n",
    "\n",
    "            # Compute loss \n",
    "            loss = loss_fn(img_output_tmp, img_input_tmp)\n",
    "\n",
    "            # Update validation running loss as convergence metric\n",
    "            running_val_loss += loss.item()\n",
    "            \n",
    "    # Average epoch loss\n",
    "    epoch_training_loss = running_loss / len(training_dataloader)\n",
    "    epoch_validation_loss = running_val_loss / len(validation_dataloader)\n",
    "\n",
    "    # Append the losses to the list:\n",
    "    training_loss_list.append(epoch_training_loss)\n",
    "    validation_loss_list.append(epoch_validation_loss)\n",
    "\n",
    "    # Convergence metric\n",
    "    print(f\"Epoch [{epoch+1}/{n_epochs}], Loss: {epoch_training_loss:.4f}, Val. Loss: {epoch_validation_loss:.4f}\")"
   ]
  },
  {
   "cell_type": "markdown",
   "id": "129c1a4c-8894-4345-b02e-a88422118ada",
   "metadata": {},
   "source": [
    "Plots the convergence curves (Training and Validation losses):"
   ]
  },
  {
   "cell_type": "code",
   "execution_count": 11,
   "id": "d744c636-e11a-4159-8069-7151fe914375",
   "metadata": {},
   "outputs": [
    {
     "data": {
      "text/plain": [
       "<matplotlib.legend.Legend at 0x1c4456dfb50>"
      ]
     },
     "execution_count": 11,
     "metadata": {},
     "output_type": "execute_result"
    },
    {
     "data": {
      "image/png": "[encoded data removed]",
      "text/plain": [
       "<Figure size 640x480 with 1 Axes>"
      ]
     },
     "metadata": {},
     "output_type": "display_data"
    }
   ],
   "source": [
    "fig, ax = plt.subplots()\n",
    "\n",
    "ax.plot(list(range(len(training_loss_list))), training_loss_list, color = 'black', label='Training loss')\n",
    "ax.plot(list(range(len(validation_loss_list))), validation_loss_list,  color = 'red', label='Validation loss')\n",
    "ax.legend()"
   ]
  },
  {
   "cell_type": "markdown",
   "id": "3c37b32d-a9b2-41f2-8a8d-aa3cfc3b13bd",
   "metadata": {},
   "source": [
    "We can plot a random reconstruction from the training/validation/test sets. We also plot the image with a cutoff (0.5) to obtain a candidate mask."
   ]
  },
  {
   "cell_type": "code",
   "execution_count": 12,
   "id": "4319fa88-86a7-4028-aa8f-8162c3616fdf",
   "metadata": {},
   "outputs": [
    {
     "data": {
      "image/png": "[encoded data removed]",
      "text/plain": [
       "<Figure size 600x300 with 3 Axes>"
      ]
     },
     "metadata": {},
     "output_type": "display_data"
    },
    {
     "data": {
      "image/png": "[encoded data removed]",
      "text/plain": [
       "<Figure size 600x300 with 3 Axes>"
      ]
     },
     "metadata": {},
     "output_type": "display_data"
    },
    {
     "data": {
      "image/png": "[encoded data removed]",
      "text/plain": [
       "<Figure size 600x300 with 3 Axes>"
      ]
     },
     "metadata": {},
     "output_type": "display_data"
    }
   ],
   "source": [
    "# Aux function to plot the results\n",
    "def plot_autoencoder_results(model, dataloader, title, device):\n",
    "    # Set model to evaluation mode\n",
    "    model.eval()\n",
    "\n",
    "    # Select a random batch and pick one image\n",
    "    with torch.no_grad():\n",
    "        # Get a random index\n",
    "        random_idx = random.randint(0, len(dataloader.dataset) - 1)\n",
    "        \n",
    "        # Fetch the corresponding image\n",
    "        img_input = dataloader.dataset[random_idx].unsqueeze(0).to(device)  # Add batch dim\n",
    "\n",
    "        # Forward pass (get reconstructed image)\n",
    "        img_output = model(img_input)\n",
    "\n",
    "    # Convert tensors to NumPy for plotting\n",
    "    img_input_np = img_input.squeeze(0).cpu().numpy().transpose(1, 2, 0)  # [C, H, W] → [H, W, C]\n",
    "    img_output_np = img_output.squeeze(0).cpu().numpy().transpose(1, 2, 0) \n",
    "    \n",
    "    # Plot the original and reconstructed images\n",
    "    fig, axes = plt.subplots(1, 3, figsize=(6, 3))\n",
    "\n",
    "    # Original\n",
    "    axes[0].imshow(img_input_np, cmap=\"gray\")  \n",
    "    axes[0].set_title(\"Original\")\n",
    "    axes[0].axis(\"off\")\n",
    "\n",
    "    # Reconstructed\n",
    "    axes[1].imshow(img_output_np, cmap=\"gray\")  \n",
    "    axes[1].set_title(\"Reconstructed\")\n",
    "    axes[1].axis(\"off\")\n",
    "\n",
    "    # Define a cutoff 0.5\n",
    "    img_output_np_cutoff = img_output_np\n",
    "    img_output_np_cutoff[img_output_np_cutoff>0.5] = 1\n",
    "    img_output_np_cutoff[img_output_np_cutoff<=0.5] = 0\n",
    "\n",
    "    # Reconstructed and cutoff\n",
    "    axes[2].imshow(img_output_np_cutoff, cmap=\"gray\")  \n",
    "    axes[2].set_title(\"Reconstructed+Cutoff\")\n",
    "    axes[2].axis(\"off\")\n",
    "\n",
    "    plt.suptitle(title)\n",
    "    plt.show()\n",
    "\n",
    "# Run a random visualization for each dataset\n",
    "plot_autoencoder_results(model, training_dataloader, \"Training Sample\", device)\n",
    "plot_autoencoder_results(model, validation_dataloader, \"Validation Sample\", device)\n",
    "plot_autoencoder_results(model, test_dataloader, \"Test Sample\", device)"
   ]
  },
  {
   "cell_type": "markdown",
   "id": "ad120b77-b30e-455f-acee-a7e0dea22874",
   "metadata": {},
   "source": [
    "The encoding part provides a useful representation of the images in a low-dimensional space:"
   ]
  },
  {
   "cell_type": "code",
   "execution_count": 13,
   "id": "d145bd19-628d-485f-8972-b850940065f0",
   "metadata": {},
   "outputs": [
    {
     "name": "stdout",
     "output_type": "stream",
     "text": [
      "Latent representation: tensor([[ -5.6984,   4.1505, -13.3762,  14.5040, -10.7482,  -3.6558,   8.8344,\n",
      "          -9.0007]], device='cuda:0', grad_fn=<AddmmBackward0>)\n"
     ]
    },
    {
     "data": {
      "image/png": "[encoded data removed]",
      "text/plain": [
       "<Figure size 640x480 with 1 Axes>"
      ]
     },
     "metadata": {},
     "output_type": "display_data"
    }
   ],
   "source": [
    "# Select an index\n",
    "index_example = 27\n",
    "\n",
    "# Set the model one evaluation:\n",
    "model.eval()\n",
    "\n",
    "# Get the item corresponding to the given index\n",
    "image_tensor = validation_dataset.__getitem__(index_example).unsqueeze(0).to(device)  # Add batch dim and move to device\n",
    "\n",
    "# Compute the latent representation\n",
    "latent_representation = model.encoder(image_tensor)\n",
    "print(\"Latent representation:\", latent_representation)\n",
    "\n",
    "# Image corresponding to the latent representation\n",
    "image_np = F.to_pil_image(validation_dataset.__getitem__(index_example))  \n",
    "\n",
    "# Plot the image\n",
    "plt.imshow(image_np)\n",
    "plt.axis(\"off\")  # Hide axes\n",
    "plt.title(f\"Original image\") \n",
    "plt.show()"
   ]
  },
  {
   "cell_type": "markdown",
   "id": "9c2dbb9a-ec4c-4870-abad-f9206078749b",
   "metadata": {},
   "source": [
    "Conversely, the decoder can be used to generate images from an input latent representation:"
   ]
  },
  {
   "cell_type": "code",
   "execution_count": 19,
   "id": "3c33a5ba-499f-486a-a5da-dc99ee053b77",
   "metadata": {},
   "outputs": [
    {
     "data": {
      "image/png": "[encoded data removed]",
      "text/plain": [
       "<Figure size 640x480 with 1 Axes>"
      ]
     },
     "metadata": {},
     "output_type": "display_data"
    }
   ],
   "source": [
    "# Define a latent representation:\n",
    "latent_representation = torch.tensor([[ -5.6984,   4.1505, -13.3762,  14.5040, -10.7482,  -3.6558,   8.8344, -9.0007]]).to(device)\n",
    "\n",
    "# Set the model one evaluation:\n",
    "model.eval()\n",
    "\n",
    "img_output = model.decoder(latent_representation)\n",
    "img_output_np = img_output.squeeze(0).cpu().detach().numpy().transpose(1, 2, 0) \n",
    "\n",
    "# Image corresponding to the latent representation\n",
    "image_np = F.to_pil_image(img_output_np)  \n",
    "\n",
    "# Plot the image\n",
    "plt.imshow(image_np)\n",
    "plt.axis(\"off\")  # Hide axes\n",
    "plt.title(f\"Reconstructed image\") \n",
    "plt.show()"
   ]
  }
 ],
 "metadata": {
  "kernelspec": {
   "display_name": "Python 3 (ipykernel)",
   "language": "python",
   "name": "python3"
  },
  "language_info": {
   "codemirror_mode": {
    "name": "ipython",
    "version": 3
   },
   "file_extension": ".py",
   "mimetype": "text/x-python",
   "name": "python",
   "nbconvert_exporter": "python",
   "pygments_lexer": "ipython3",
   "version": "3.11.11"
  }
 },
 "nbformat": 4,
 "nbformat_minor": 5
}
