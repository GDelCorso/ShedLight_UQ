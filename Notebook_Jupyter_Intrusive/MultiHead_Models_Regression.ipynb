{
 "cells": [
  {
   "cell_type": "markdown",
   "id": "d9934259-870f-4f18-9f45-726b8ca51a39",
   "metadata": {},
   "source": [
    "# Multi-Head Intrusive Regression model\n",
    "This chapter aims to show how to define a proper loss to modify a classical deterministic regression model to a two-heads intrusive Bayesian approach."
   ]
  },
  {
   "cell_type": "code",
   "execution_count": 1,
   "id": "f777bbad-4eb5-4c15-98de-e0c9988501d2",
   "metadata": {},
   "outputs": [],
   "source": [
    "# Libraries\n",
    "import os\n",
    "import numpy as np\n",
    "import matplotlib.pyplot as plt\n",
    "import seaborn as sns\n",
    "import pandas as pd\n",
    "\n",
    "from pathlib import Path\n",
    "\n",
    "import torch\n",
    "import torch.nn as nn\n",
    "import torch.optim as optim\n",
    "\n",
    "from torch.utils.data import Dataset\n",
    "from torch.utils.data import DataLoader\n",
    "\n",
    "path_pardir = Path(os.getcwd()).parent\n",
    "path_data = os.path.join(path_pardir, 'Data')"
   ]
  },
  {
   "cell_type": "markdown",
   "id": "b5a7c0e3-38c2-41f7-b215-830a67ff7957",
   "metadata": {},
   "source": [
    "## Introduce MSE loss:\n",
    "Standard MSE loss is defined as the $\\ell_2$ norm between each element of the input (thought as a tensor, is the model prediction $\\hat{y} = \\mathcal{M}(x)$) and the output (GT: $y$):\n",
    "$$ \\ell (\\hat{y}, y) := (\\hat{y}-y)^2 $$\n",
    "\n",
    "The loss can be calculated between any two tensors. However, in most ML scenarios it is computed between a reference vector (the ground truth GT) and a prediction of a model. Therefore, we use the formalism *y_true* and *y_pred* to be more rooted in ML applications."
   ]
  },
  {
   "cell_type": "code",
   "execution_count": 2,
   "id": "a2d6e691-8be8-44ae-8e6d-1b774977a5fb",
   "metadata": {},
   "outputs": [
    {
     "name": "stdout",
     "output_type": "stream",
     "text": [
      "Loss MSE 2 vs 3: 1.0\n",
      "Loss MSE 3 vs 3: 0.0\n",
      "Loss MSE -17 vs 3: 400.0\n"
     ]
    }
   ],
   "source": [
    "# Introduce the MSE loss\n",
    "loss_MSE = nn.MSELoss()\n",
    "\n",
    "# Define the ground truth\n",
    "y_true = torch.tensor([3.0])\n",
    "\n",
    "# Define a candidate prediction\n",
    "y_pred = torch.tensor([2.0])\n",
    "expected_loss = loss_MSE(y_pred,y_true)\n",
    "print(f\"Loss MSE 2 vs 3: {expected_loss}\")\n",
    "\n",
    "# Define THE optimal candidate prediction\n",
    "y_pred = torch.tensor([3.0])\n",
    "expected_loss = loss_MSE(y_pred,y_true)\n",
    "print(f\"Loss MSE 3 vs 3: {expected_loss}\")\n",
    "\n",
    "# Define a totally wrong prediction\n",
    "y_pred = torch.tensor([-17.0])\n",
    "expected_loss = loss_MSE(y_pred,y_true)\n",
    "print(f\"Loss MSE -17 vs 3: {expected_loss}\")"
   ]
  },
  {
   "cell_type": "markdown",
   "id": "5c914a1c-2530-463b-8f91-e2d20da37373",
   "metadata": {},
   "source": [
    "As expected, the best prediction (optimal/coincident regression value) has 0 loss value.\n",
    "\n",
    "By applying the loss to a batch, the MSE is calculated element by element and averaged or given as a tensor:"
   ]
  },
  {
   "cell_type": "code",
   "execution_count": 3,
   "id": "cd9c0097-3406-42bb-8b1f-d6204f004806",
   "metadata": {},
   "outputs": [
    {
     "name": "stdout",
     "output_type": "stream",
     "text": [
      "Loss as average on batch: 133.6666717529297\n",
      "Loss element wise on batch: tensor([  1.,   0., 400.])\n"
     ]
    }
   ],
   "source": [
    "# Define the ground truth and prediction as batches\n",
    "y_true = torch.tensor([3.0, 3.0, 3.0])\n",
    "y_pred = torch.tensor([2.0, 3.0, -17.0])\n",
    "\n",
    "# The loss on the batch can be calculated as the average between losses: (1+0+400)/3\n",
    "loss_MSE = nn.MSELoss() \n",
    "loss_MSE = nn.MSELoss(reduction='mean') # Same as default\n",
    "\n",
    "expected_loss = loss_MSE(y_pred,y_true)\n",
    "print(f\"Loss as average on batch: {expected_loss}\")\n",
    "\n",
    "# Otherwise it can be computed value by value:\n",
    "loss_MSE = nn.MSELoss(reduction='none')\n",
    "\n",
    "expected_loss = loss_MSE(y_pred,y_true)\n",
    "print(f\"Loss element wise on batch: {expected_loss}\")"
   ]
  },
  {
   "cell_type": "markdown",
   "id": "3f50a2de-4635-40d0-9820-bad0b45955ba",
   "metadata": {},
   "source": [
    "## Introduce NLL (Variance Attenuation) Loss:\n",
    "We want to define (and understand) how the Variance Attenuation Loss behaves compared to the standard MSE Loss.\n",
    "\n",
    "The variance attenuation loss is computed as the NLL (Negative Log Likelihood) assuming a Gaussian output of the model:\n",
    "$$ \\text{NLL}(\\hat{y},y) := \\text{NLL}\\left((\\mu(x), \\sigma(x)),y\\right) := \\frac{1}{2} \\left( \\log (\\sigma(x)^2)+\\frac{(y-\\mu(x))^2}{\\sigma^2(x)} \\right)$$\n",
    "where it should be noted that the \"prediction\" of the model is a Gaussian distribution fully characterized by its mean and its std:\n",
    "$$ \\hat{y} = (\\mu(x), \\sigma(x)) $$\n",
    "while the GT is a real valued element:\n",
    "$$ y \\in \\mathbb{R} $$\n",
    "\n",
    "To avoid division by zero, the variance is perturbed with a positive term $\\varepsilon$:\n",
    "$$ \\sigma^2(x) \\rightarrow \\sigma^2(x) + \\varepsilon $$\n",
    "\n",
    "To avoid problems with the output of the model (i.e. a negative variance), we can act on the last layer of the ANNs or simply think of the output of the last layer as $(\\mu(x), \\log(\\sigma(x))$ in such a way that negative values are automatically converted to variances by applying an exponential function. To improve readibility, we decided to modify the ANNs such that the secundary output is always positive.\n",
    "\n",
    "\n",
    "We need to define the loss from scratches, in Pytorch, as follows"
   ]
  },
  {
   "cell_type": "code",
   "execution_count": 4,
   "id": "2a3ca106-1637-4990-a838-1cfa979af248",
   "metadata": {},
   "outputs": [],
   "source": [
    "# Extend Pytorch Module to define a \"Variance Attenuation Loss\":\n",
    "class VarianceAttenuationLoss(nn.Module):\n",
    "    def __init__(self, epsilon = 1e-6, set_to_zero = False):\n",
    "        super(VarianceAttenuationLoss, self).__init__()\n",
    "        \n",
    "        # To avoid division by 0 add a perturbatuion:\n",
    "        self.epsilon = epsilon  \n",
    "\n",
    "        # Boolean switch to decide to translate the NLL:\n",
    "        self.set_to_zero = set_to_zero\n",
    "        \n",
    "\n",
    "    def forward(self, y_pred, y_true):\n",
    "        # Assuming y_pred has two outputs: mean and std:\n",
    "        # Mean\n",
    "        mean = y_pred[:, 0].unsqueeze(1)\n",
    "        # Std\n",
    "        variance = y_pred[:, 1].unsqueeze(1)**2 + self.epsilon # Add a perturbation \n",
    "\n",
    "        # Negative Log Likelihood\n",
    "        nll = 0.5 * (torch.log(variance) + ((y_true - mean)**2)/variance)\n",
    "\n",
    "        # Translate the minumum to zero\n",
    "        if self.set_to_zero:\n",
    "            nll = nll - 0.5*torch.log(torch.ones_like(nll)*self.epsilon)\n",
    "\n",
    "        # Return the mean (on the batch)\n",
    "        return torch.mean(nll)"
   ]
  },
  {
   "cell_type": "markdown",
   "id": "2543da50-14d5-46a2-a055-bc29ee4bf31f",
   "metadata": {},
   "source": [
    "Test on some cases how the NLL behaves:"
   ]
  },
  {
   "cell_type": "code",
   "execution_count": 5,
   "id": "f6ef5ec6-6a88-4216-8c89-2ae30c8dcd42",
   "metadata": {},
   "outputs": [
    {
     "name": "stdout",
     "output_type": "stream",
     "text": [
      "Correct & reliable prediction: 0.0\n",
      "Correct & un-reliable prediction: 8.517192840576172\n",
      "\n",
      "Wrong & un-reliable prediction: 8.869993209838867\n",
      "Wrong & reliable prediction: 15.727745056152344\n"
     ]
    }
   ],
   "source": [
    "# Initialize the loss:\n",
    "loss_VA = VarianceAttenuationLoss(set_to_zero = True)\n",
    "\n",
    "# The ground truth is a VALUE:\n",
    "y_true = torch.tensor([12.7])\n",
    "\n",
    "# The best outcome for VarianceAttenuationLoss is the prediction = GT and null std\n",
    "y_pred = torch.tensor([[12.7, 0]])\n",
    "expected_loss = loss_VA(y_pred,y_true)\n",
    "print(f\"Correct & reliable prediction: {expected_loss}\")\n",
    "\n",
    "# Making the perfect prediction with high std (unreliable estimate) increases the loss:\n",
    "y_pred = torch.tensor([[12.7, 5]])\n",
    "expected_loss = loss_VA(y_pred,y_true)\n",
    "print(f\"Correct & un-reliable prediction: {expected_loss}\")\n",
    "\n",
    "# Bad prediction with low reliability provides low loss:\n",
    "y_pred = torch.tensor([[16.9, 5]])\n",
    "expected_loss = loss_VA(y_pred,y_true)\n",
    "print(f\"\\nWrong & un-reliable prediction: {expected_loss}\")\n",
    "\n",
    "# Bad (reliable) predictions are highly penalized:\n",
    "y_pred = torch.tensor([[16.9, 1]])\n",
    "expected_loss = loss_VA(y_pred,y_true)\n",
    "print(f\"Wrong & reliable prediction: {expected_loss}\")"
   ]
  },
  {
   "cell_type": "markdown",
   "id": "12e131cc-3983-4485-910e-0d95462f15c4",
   "metadata": {},
   "source": [
    "As expected, the best prediction is correct and reliable (null/small std). Correct and unreliable predictions are penalised. An incorrect and unreliable prediction has a lower loss compared to an incorrect and (incorrectly) reliable prediction.\n",
    "\n",
    "NLL can also be calculated on batches:"
   ]
  },
  {
   "cell_type": "code",
   "execution_count": 6,
   "id": "ec98d8ff-5fc6-44e7-a4a8-41068ab9dac3",
   "metadata": {},
   "outputs": [
    {
     "name": "stdout",
     "output_type": "stream",
     "text": [
      "Loss: 6.050803184509277\n"
     ]
    }
   ],
   "source": [
    "# Model outputs both mean and log_variance\n",
    "y_pred = torch.tensor([[2.5, 13], [23.9, -4]], requires_grad= True)  # Batch = [[mean_1, std_1],[mean_2, std_2],...]\n",
    "y_true = torch.tensor([2.4, 17.8])\n",
    "\n",
    "criterion = VarianceAttenuationLoss()\n",
    "loss = criterion(y_pred, y_true)\n",
    "loss.backward()\n",
    "\n",
    "print(\"Loss:\", loss.item())"
   ]
  },
  {
   "cell_type": "markdown",
   "id": "dc6accaf-39ef-4d15-abfd-5e6111e63a41",
   "metadata": {},
   "source": [
    "## Regression multi-head model\n",
    "This is an elementary implementation of a multi-head regression model in Pytorch using the Variance Attenuation Loss.\n",
    "\n",
    "First, we define the device (GPU/CPU) we are working with:"
   ]
  },
  {
   "cell_type": "code",
   "execution_count": 7,
   "id": "ddcab84a-136e-4eb7-9cb4-535611f728de",
   "metadata": {
    "scrolled": true
   },
   "outputs": [
    {
     "name": "stdout",
     "output_type": "stream",
     "text": [
      "Device: cuda\n"
     ]
    }
   ],
   "source": [
    "device = torch.device(\"cuda\" if torch.cuda.is_available() else \"cpu\")\n",
    "print(\"Device:\", device)"
   ]
  },
  {
   "cell_type": "markdown",
   "id": "925012d6-711e-4334-9123-a18781e24752",
   "metadata": {},
   "source": [
    "The data frame is the linear relationship without noise introduced in step_1, we explicitly split the data frame into training/validation/test set."
   ]
  },
  {
   "cell_type": "code",
   "execution_count": 8,
   "id": "892bfb4e-df9f-472a-8845-892d7a68f8d0",
   "metadata": {
    "scrolled": true
   },
   "outputs": [
    {
     "data": {
      "text/html": [
       "<div>\n",
       "<style scoped>\n",
       "    .dataframe tbody tr th:only-of-type {\n",
       "        vertical-align: middle;\n",
       "    }\n",
       "\n",
       "    .dataframe tbody tr th {\n",
       "        vertical-align: top;\n",
       "    }\n",
       "\n",
       "    .dataframe thead th {\n",
       "        text-align: right;\n",
       "    }\n",
       "</style>\n",
       "<table border=\"1\" class=\"dataframe\">\n",
       "  <thead>\n",
       "    <tr style=\"text-align: right;\">\n",
       "      <th></th>\n",
       "      <th>x_range</th>\n",
       "      <th>y_range</th>\n",
       "      <th>split_label</th>\n",
       "    </tr>\n",
       "  </thead>\n",
       "  <tbody>\n",
       "    <tr>\n",
       "      <th>0</th>\n",
       "      <td>-100.00000</td>\n",
       "      <td>-2.021083</td>\n",
       "      <td>0</td>\n",
       "    </tr>\n",
       "    <tr>\n",
       "      <th>1</th>\n",
       "      <td>-99.89995</td>\n",
       "      <td>-2.109683</td>\n",
       "      <td>0</td>\n",
       "    </tr>\n",
       "    <tr>\n",
       "      <th>2</th>\n",
       "      <td>-99.79990</td>\n",
       "      <td>-1.733922</td>\n",
       "      <td>2</td>\n",
       "    </tr>\n",
       "    <tr>\n",
       "      <th>3</th>\n",
       "      <td>-99.69985</td>\n",
       "      <td>-1.851147</td>\n",
       "      <td>2</td>\n",
       "    </tr>\n",
       "    <tr>\n",
       "      <th>4</th>\n",
       "      <td>-99.59980</td>\n",
       "      <td>-1.748839</td>\n",
       "      <td>0</td>\n",
       "    </tr>\n",
       "    <tr>\n",
       "      <th>5</th>\n",
       "      <td>-99.49975</td>\n",
       "      <td>-1.995341</td>\n",
       "      <td>1</td>\n",
       "    </tr>\n",
       "    <tr>\n",
       "      <th>6</th>\n",
       "      <td>-99.39970</td>\n",
       "      <td>-2.035039</td>\n",
       "      <td>0</td>\n",
       "    </tr>\n",
       "    <tr>\n",
       "      <th>7</th>\n",
       "      <td>-99.29965</td>\n",
       "      <td>-1.885941</td>\n",
       "      <td>0</td>\n",
       "    </tr>\n",
       "  </tbody>\n",
       "</table>\n",
       "</div>"
      ],
      "text/plain": [
       "     x_range   y_range  split_label\n",
       "0 -100.00000 -2.021083            0\n",
       "1  -99.89995 -2.109683            0\n",
       "2  -99.79990 -1.733922            2\n",
       "3  -99.69985 -1.851147            2\n",
       "4  -99.59980 -1.748839            0\n",
       "5  -99.49975 -1.995341            1\n",
       "6  -99.39970 -2.035039            0\n",
       "7  -99.29965 -1.885941            0"
      ]
     },
     "execution_count": 8,
     "metadata": {},
     "output_type": "execute_result"
    }
   ],
   "source": [
    "chosen_df = \"df_nonlinear_heteroscedastic_aleatoric.csv\"\n",
    "\n",
    "full_df = pd.read_csv(os.path.join(path_data, chosen_df))\n",
    "\n",
    "training_df = full_df[full_df[\"split_label\"]==0]\n",
    "validation_df = full_df[full_df[\"split_label\"]==1]\n",
    "test_df = full_df[full_df[\"split_label\"]==2]\n",
    "\n",
    "full_df.head(8)"
   ]
  },
  {
   "cell_type": "markdown",
   "id": "718eea0c-c1d5-446a-a4e8-64e81bf80dcb",
   "metadata": {},
   "source": [
    "We define a CustomDataset from Pytorch Dataset. The dataset has an *init* (initialise the class), a *len* and a *getitem* method.\n",
    "A Dataset must provide the tools to identify available data and return all the elements needed to train/test/evaluate the model.\n",
    "\n",
    "Can be skipped if the data is particularly simple."
   ]
  },
  {
   "cell_type": "code",
   "execution_count": 9,
   "id": "f9e5033d-40a8-40f2-b57b-58d41c744f41",
   "metadata": {},
   "outputs": [
    {
     "name": "stdout",
     "output_type": "stream",
     "text": [
      "Length training dataset: 1600\n",
      "Output example (x_range,y_range)=((tensor([-96.3982]), tensor([-1.7349]))) with index 27.\n"
     ]
    }
   ],
   "source": [
    "# Dataset definition:\n",
    "class CustomDataset(Dataset):\n",
    "    def __init__(self, annotations_file, path_data, split_label=None):\n",
    "        if split_label!=None:\n",
    "            self.df = pd.read_csv(os.path.join(path_data, annotations_file))\n",
    "            self.df = self.df[self.df['split_label']==split_label]\n",
    "        else:\n",
    "            self.df = pd.read_csv(os.path.join(path_data, annotations_file))\n",
    "\n",
    "    def __len__(self):\n",
    "        return len(self.df)\n",
    "\n",
    "    def __getitem__(self, idx):\n",
    "        x_range = float(self.df.iloc[idx]['x_range'])\n",
    "        y_range = float(self.df.iloc[idx]['y_range'])\n",
    "\n",
    "        features = torch.tensor([x_range], dtype=torch.float32)\n",
    "        output = torch.tensor([y_range], dtype=torch.float32)\n",
    "        \n",
    "        return features, output\n",
    "\n",
    "# Initialize Training dataset and show outputs and properties:\n",
    "training_dataset = CustomDataset(annotations_file=chosen_df, path_data=path_data, split_label=0)\n",
    "print(\"Length training dataset:\", training_dataset.__len__())\n",
    "\n",
    "index_example = 27\n",
    "print(f\"Output example (x_range,y_range)=({training_dataset.__getitem__(index_example)}) with index {index_example}.\")\n",
    "\n",
    "# Initialize validation and test datasets:\n",
    "validation_dataset = CustomDataset(annotations_file=chosen_df, path_data=path_data, split_label=1)\n",
    "test_dataset = CustomDataset(annotations_file=chosen_df, path_data=path_data, split_label=2)"
   ]
  },
  {
   "cell_type": "markdown",
   "id": "1fc73af4-91f1-473b-9fbc-7480e82fd881",
   "metadata": {},
   "source": [
    "To define a batch we can iterate on the whole dataset or define a *DataLoader* which samples from the introduced DataSet and can be iterated during training. It provides a batch of tensors to apply the computations efficiently at the same time."
   ]
  },
  {
   "cell_type": "code",
   "execution_count": 10,
   "id": "f0b673a6-f5d9-49b8-9064-4f5ce16d5d27",
   "metadata": {
    "scrolled": true
   },
   "outputs": [
    {
     "name": "stdout",
     "output_type": "stream",
     "text": [
      "(x_example,y_example)=(tensor([[-93.7969],\n",
      "        [ 98.8995],\n",
      "        [ -9.6548],\n",
      "        [-73.1866],\n",
      "        [-53.3767],\n",
      "        [-30.4652],\n",
      "        [-12.9565],\n",
      "        [-44.1721],\n",
      "        [ 59.3797],\n",
      "        [ 85.0925]]),tensor([[-1.2722],\n",
      "        [-1.9730],\n",
      "        [-0.5907],\n",
      "        [-0.2782],\n",
      "        [-0.3160],\n",
      "        [-1.1079],\n",
      "        [-0.7410],\n",
      "        [-0.9730],\n",
      "        [-1.1154],\n",
      "        [-2.0236]]))\n",
      "Data loaded shape: torch.Size([10, 1])\n"
     ]
    }
   ],
   "source": [
    "# Size of each batch\n",
    "batch_size = 10 \n",
    "\n",
    "# Define 3 DataLoaders: Training/Validation/Test \n",
    "training_dataloader = DataLoader(training_dataset, batch_size=batch_size, shuffle=True)\n",
    "validation_dataloader = DataLoader(validation_dataset, batch_size=1, shuffle=False)\n",
    "test_dataloader = DataLoader(test_dataset, batch_size=1, shuffle=False)\n",
    "\n",
    "# An example of iteration on the DataLoader:\n",
    "x_example, y_example = next(iter(training_dataloader))\n",
    "print(f\"(x_example,y_example)=({x_example},{y_example})\")\n",
    "print(f\"Data loaded shape: {x_example.shape}\")"
   ]
  },
  {
   "cell_type": "markdown",
   "id": "d1e53fc0-b5d2-4ed7-916a-52c07d8ce58c",
   "metadata": {},
   "source": [
    "Introduce a (small) model to approximate the relationship, now we need a model wich provides as output 2 values instead of one (mean and standard deviation)"
   ]
  },
  {
   "cell_type": "code",
   "execution_count": 11,
   "id": "946d9dbe-9e36-471b-b82c-87059c9ddff7",
   "metadata": {},
   "outputs": [],
   "source": [
    "class TwoHeads(nn.Module):\n",
    "    def __init__(self):\n",
    "        super(TwoHeads, self).__init__()\n",
    "        # Define the layers of the network\n",
    "        self.hidden = nn.Sequential(\n",
    "            nn.Linear(1, 8),\n",
    "            nn.ReLU(),\n",
    "            nn.Linear(8, 16),\n",
    "            nn.ReLU(),\n",
    "            nn.Linear(16, 32),\n",
    "            nn.ReLU(),\n",
    "            nn.Linear(32, 16),\n",
    "            nn.ReLU(),\n",
    "            nn.Linear(16, 16)\n",
    "        )\n",
    "\n",
    "        # Define the last layer as a mean and standard deviation:\n",
    "        self.mean = nn.Linear(16, 1)  # Output the mean\n",
    "        self.std = nn.Linear(16, 1)   # Output the std\n",
    "\n",
    "        # Constant initialization of std to avoid too high values that stop gradient flow\n",
    "        nn.init.constant_(self.std.weight, 0.1)\n",
    "        nn.init.constant_(self.std.bias, 0.5)\n",
    "        \n",
    "        \n",
    "    def forward(self, x):\n",
    "        # Collect the output of the hidden layers:\n",
    "        x = self.hidden(x)\n",
    "\n",
    "        # Compute mean from the hidden layer:\n",
    "        mean = self.mean(x)\n",
    "\n",
    "        # Compute std from the hidden layer:\n",
    "        std = self.std(x)\n",
    "        std = torch.nn.functional.softplus(std) # Apply a softplus function to the std output to force a positive value\n",
    "        std = torch.clamp(std, min=0.01, max=5) # Clamp the value between a minumum and a maximum (it should be adapted to the problem)\n",
    "        \n",
    "        return torch.cat([mean, std], dim=1)  # Return both mean and std\n",
    "\n",
    "# Initialize the model:\n",
    "model = TwoHeads()\n",
    "\n",
    "# Move the model to device (GPU):\n",
    "model.to(device)\n",
    "\n",
    "# Convert weights type to float:\n",
    "model = model.float()"
   ]
  },
  {
   "cell_type": "markdown",
   "id": "f1554392-3f91-4cb3-b28b-1dc426fe5657",
   "metadata": {},
   "source": [
    "Introduce the loss and the optimiser. Both can be implemented explicitly. The loss can be any function relating predictions and ground truths."
   ]
  },
  {
   "cell_type": "code",
   "execution_count": 12,
   "id": "32c67131-8bcd-498d-a39a-89d3f9e8ed3c",
   "metadata": {},
   "outputs": [],
   "source": [
    "# Loss function (Variance Attenuation Loss):\n",
    "loss_fn = VarianceAttenuationLoss(set_to_zero = True)\n",
    "\n",
    "# Optimizer (Adam): \n",
    "learning_rate = 1e-3\n",
    "optimizer = optim.Adam(model.parameters(), lr=learning_rate)"
   ]
  },
  {
   "cell_type": "markdown",
   "id": "0806bc0d-289d-4572-bf99-4719e97055d5",
   "metadata": {},
   "source": [
    "Training cycle: \n",
    "- The model is trained for a given number of epochs *n_epochs*\n",
    "- Each epoch iterates over the entire dataset (*shuffle == True* just randomly shuffles indices) using the dataloader to generate batches.\n",
    "- For each batch, the gradients are computed on the whole batch to the respect of the loss function and the optimizer it is used to update model trainable parameters\n"
   ]
  },
  {
   "cell_type": "code",
   "execution_count": 13,
   "id": "3db53ec0-746f-4291-9aa7-e4dc263ae223",
   "metadata": {
    "scrolled": true
   },
   "outputs": [
    {
     "name": "stdout",
     "output_type": "stream",
     "text": [
      "Epoch [1/50], Loss: 6.9913, Val. Loss: 6.8779\n",
      "Epoch [2/50], Loss: 6.8544, Val. Loss: 6.7508\n",
      "Epoch [3/50], Loss: 6.4945, Val. Loss: 6.4265\n",
      "Epoch [4/50], Loss: 6.2795, Val. Loss: 6.4890\n",
      "Epoch [5/50], Loss: 6.0797, Val. Loss: 5.9514\n",
      "Epoch [6/50], Loss: 5.9584, Val. Loss: 5.8178\n",
      "Epoch [7/50], Loss: 5.8910, Val. Loss: 5.9007\n",
      "Epoch [8/50], Loss: 5.9152, Val. Loss: 5.8041\n",
      "Epoch [9/50], Loss: 5.8224, Val. Loss: 6.1866\n",
      "Epoch [10/50], Loss: 5.7866, Val. Loss: 5.6289\n",
      "Epoch [11/50], Loss: 5.7426, Val. Loss: 5.5967\n",
      "Epoch [12/50], Loss: 5.6989, Val. Loss: 5.6409\n",
      "Epoch [13/50], Loss: 5.6909, Val. Loss: 5.5158\n",
      "Epoch [14/50], Loss: 5.6894, Val. Loss: 5.6923\n",
      "Epoch [15/50], Loss: 5.6581, Val. Loss: 5.5530\n",
      "Epoch [16/50], Loss: 5.5980, Val. Loss: 5.5095\n",
      "Epoch [17/50], Loss: 5.5779, Val. Loss: 5.5352\n",
      "Epoch [18/50], Loss: 5.6763, Val. Loss: 5.6029\n",
      "Epoch [19/50], Loss: 5.5742, Val. Loss: 5.5792\n",
      "Epoch [20/50], Loss: 5.5554, Val. Loss: 5.5235\n",
      "Epoch [21/50], Loss: 5.6006, Val. Loss: 5.7545\n",
      "Epoch [22/50], Loss: 5.7256, Val. Loss: 5.6968\n",
      "Epoch [23/50], Loss: 5.5746, Val. Loss: 5.4523\n",
      "Epoch [24/50], Loss: 5.5567, Val. Loss: 5.9304\n",
      "Epoch [25/50], Loss: 5.5607, Val. Loss: 5.5388\n",
      "Epoch [26/50], Loss: 5.5556, Val. Loss: 5.4151\n",
      "Epoch [27/50], Loss: 5.5480, Val. Loss: 5.6887\n",
      "Epoch [28/50], Loss: 5.5133, Val. Loss: 5.4860\n",
      "Epoch [29/50], Loss: 5.5724, Val. Loss: 5.4856\n",
      "Epoch [30/50], Loss: 5.5608, Val. Loss: 5.5130\n",
      "Epoch [31/50], Loss: 5.5153, Val. Loss: 5.4481\n",
      "Epoch [32/50], Loss: 5.5432, Val. Loss: 5.5398\n",
      "Epoch [33/50], Loss: 5.5171, Val. Loss: 5.3751\n",
      "Epoch [34/50], Loss: 5.4738, Val. Loss: 5.4801\n",
      "Epoch [35/50], Loss: 5.4990, Val. Loss: 5.4757\n",
      "Epoch [36/50], Loss: 5.4510, Val. Loss: 5.4162\n",
      "Epoch [37/50], Loss: 5.5501, Val. Loss: 5.4310\n",
      "Epoch [38/50], Loss: 5.4812, Val. Loss: 5.5018\n",
      "Epoch [39/50], Loss: 5.4489, Val. Loss: 5.5081\n",
      "Epoch [40/50], Loss: 5.4736, Val. Loss: 5.6376\n",
      "Epoch [41/50], Loss: 5.4847, Val. Loss: 5.4950\n",
      "Epoch [42/50], Loss: 5.5012, Val. Loss: 5.4801\n",
      "Epoch [43/50], Loss: 5.4666, Val. Loss: 5.4544\n",
      "Epoch [44/50], Loss: 5.5104, Val. Loss: 5.3307\n",
      "Epoch [45/50], Loss: 5.4252, Val. Loss: 5.4344\n",
      "Epoch [46/50], Loss: 5.4573, Val. Loss: 5.3744\n",
      "Epoch [47/50], Loss: 5.4393, Val. Loss: 5.3112\n",
      "Epoch [48/50], Loss: 5.4362, Val. Loss: 5.6422\n",
      "Epoch [49/50], Loss: 5.4323, Val. Loss: 5.3608\n",
      "Epoch [50/50], Loss: 5.4388, Val. Loss: 5.4018\n"
     ]
    }
   ],
   "source": [
    "# Number of training epochs:\n",
    "n_epochs = 50\n",
    "\n",
    "training_loss_list = []\n",
    "validation_loss_list = []\n",
    "\n",
    "# Iterate over the epochs:\n",
    "for epoch in range(n_epochs):\n",
    "\n",
    "    # Set the model to Training mode: This interacts with certain kind of network layers (such as Dropout layers)\n",
    "    model.train()  \n",
    "\n",
    "    # Temporary variable to store the loss on the whole epoch as a convergence metric\n",
    "    running_loss = 0.0\n",
    "\n",
    "    # Iterate on the whole dataset using the dataloader.\n",
    "    for x_input, y_output in training_dataloader:\n",
    "        # Load inputs ad move to device (GPU)\n",
    "        x_input, y_output = x_input.to(device), y_output.to(device)\n",
    "\n",
    "        # Clear previous gradients\n",
    "        optimizer.zero_grad()  \n",
    "        \n",
    "        # Forward pass (model calls)\n",
    "        y_model = model(x_input)  \n",
    "\n",
    "        # Compute loss (supervised case)\n",
    "        loss = loss_fn(y_model, y_output)  \n",
    "\n",
    "       # print(loss)\n",
    "        # Backpropagation \n",
    "        loss.backward()  \n",
    "\n",
    "        # Update parameters (optimization step)\n",
    "        optimizer.step()  \n",
    "\n",
    "        # Update running loss as convergence metric\n",
    "        running_loss += loss.item()\n",
    "        \n",
    "\n",
    "    \n",
    "    ## Calculate loss on validation as an additional metric to evaluate overfitting\n",
    "    # Set the model to Evaluation mode:\n",
    "    model.eval()\n",
    "\n",
    "    # Temporary variable to store the validation loss:\n",
    "    running_val_loss = 0.0\n",
    "    \n",
    "    # Deactivate gradient computation\n",
    "    with torch.no_grad():\n",
    "        for x_input, y_output in validation_dataloader:\n",
    "            # Load inputs ad move to device (GPU)\n",
    "            x_input, y_output = x_input.to(device), y_output.to(device)\n",
    "\n",
    "            # Forward pass (model calls)\n",
    "            y_model = model(x_input)\n",
    "\n",
    "            # Compute loss (supervised case)\n",
    "            loss = loss_fn(y_model, y_output)\n",
    "\n",
    "            # Update validation running loss as convergence metric\n",
    "            running_val_loss += loss.item()\n",
    "            \n",
    "    # Average epoch loss\n",
    "    epoch_training_loss = running_loss / len(training_dataloader)\n",
    "    epoch_validation_loss = running_val_loss / len(validation_dataloader)\n",
    "\n",
    "    # Append the losses to the list:\n",
    "    training_loss_list.append(epoch_training_loss)\n",
    "    validation_loss_list.append(epoch_validation_loss)\n",
    "            \n",
    "    # Convergence metric\n",
    "    print(f\"Epoch [{epoch+1}/{n_epochs}], Loss: {epoch_training_loss:.4f}, Val. Loss: {epoch_validation_loss:.4f}\")"
   ]
  },
  {
   "cell_type": "markdown",
   "id": "3265da7e-d418-43c0-99de-2e71e0ca7453",
   "metadata": {},
   "source": [
    "Plot the convergence graphs on training and validation sets:"
   ]
  },
  {
   "cell_type": "code",
   "execution_count": 14,
   "id": "ea287a97-5c3e-4547-811a-ccd7d48386a8",
   "metadata": {},
   "outputs": [
    {
     "data": {
      "text/plain": [
       "<matplotlib.legend.Legend at 0x21123574b90>"
      ]
     },
     "execution_count": 14,
     "metadata": {},
     "output_type": "execute_result"
    },
    {
     "data": {
      "image/png": "[encoded data removed]",
      "text/plain": [
       "<Figure size 640x480 with 1 Axes>"
      ]
     },
     "metadata": {},
     "output_type": "display_data"
    }
   ],
   "source": [
    "fig, ax = plt.subplots()\n",
    "\n",
    "ax.plot(list(range(len(training_loss_list))), training_loss_list, color = 'black', label='Training loss')\n",
    "ax.plot(list(range(len(validation_loss_list))), validation_loss_list,  color = 'red', label='Validation loss')\n",
    "ax.legend()"
   ]
  },
  {
   "cell_type": "markdown",
   "id": "3b1f38ba-19c0-482d-aa89-86fb4c02e7a0",
   "metadata": {},
   "source": [
    "Plot the training dataset against the predictions:"
   ]
  },
  {
   "cell_type": "code",
   "execution_count": 15,
   "id": "8a3dd0b7-fc6f-4409-a1b6-bb4c9e0248eb",
   "metadata": {},
   "outputs": [
    {
     "data": {
      "image/png": "[encoded data removed]",
      "text/plain": [
       "<Figure size 640x480 with 1 Axes>"
      ]
     },
     "metadata": {},
     "output_type": "display_data"
    }
   ],
   "source": [
    "import numpy as np\n",
    "import pandas as pd\n",
    "import seaborn as sns\n",
    "import matplotlib.pyplot as plt\n",
    "\n",
    "# Define the dataframe \n",
    "x_plot = np.array(training_df[\"x_range\"])  # Input\n",
    "y_plot = np.array(training_df[\"y_range\"])  # GT\n",
    "prediction_plot = [float(model(torch.tensor(i).view(1).to(device).float().unsqueeze(1))[0][0].to('cpu')) for i in x_plot]  # Predictions\n",
    "std_plot = [float(model(torch.tensor(i).view(1).to(device).float().unsqueeze(1))[0][1].to('cpu')) for i in x_plot]         # Std\n",
    "\n",
    "df_plot_train = pd.DataFrame({\n",
    "    \"x\": np.append(x_plot, x_plot),\n",
    "    \"y\": np.append(y_plot, prediction_plot),\n",
    "    \"GT/Pred\": np.append([\"GT\"]*len(y_plot), [\"Pred\"]*len(prediction_plot))\n",
    "})\n",
    "\n",
    "# Scatter plot\n",
    "sns.scatterplot(data=df_plot_train, x=\"x\", y=\"y\", hue=\"GT/Pred\", alpha=0.3)\n",
    "\n",
    "# Create the prediction bounds for the color zone (±2 std)\n",
    "lower_bound = np.array(prediction_plot) - 2 * np.array(std_plot)\n",
    "upper_bound = np.array(prediction_plot) + 2 * np.array(std_plot)\n",
    "\n",
    "# Add the shaded region between lower_bound and upper_bound\n",
    "plt.fill_between(x_plot, lower_bound, upper_bound, color='orange', alpha=0.3, label=\"Uncertainty (±2 std)\")\n",
    "\n",
    "# Adding labels and title\n",
    "plt.xlabel('x')\n",
    "plt.ylabel('y')\n",
    "plt.title('Prediction with Uncertainty')\n",
    "\n",
    "# Show legend\n",
    "plt.legend()\n",
    "\n",
    "# Display the plot\n",
    "plt.grid(True)\n",
    "plt.show()"
   ]
  },
  {
   "cell_type": "code",
   "execution_count": null,
   "id": "eee5fe40-6b4c-4114-87da-ea963a6e80a8",
   "metadata": {},
   "outputs": [],
   "source": [
    "As expected, the prediction is capable to correctly identify aleatoric uncertainties. Indeed, the confidence interval follows the (heteroscedastic) aleatoric uncertanties and it is not focused only on the "
   ]
  }
 ],
 "metadata": {
  "kernelspec": {
   "display_name": "Python 3 (ipykernel)",
   "language": "python",
   "name": "python3"
  },
  "language_info": {
   "codemirror_mode": {
    "name": "ipython",
    "version": 3
   },
   "file_extension": ".py",
   "mimetype": "text/x-python",
   "name": "python",
   "nbconvert_exporter": "python",
   "pygments_lexer": "ipython3",
   "version": "3.11.11"
  }
 },
 "nbformat": 4,
 "nbformat_minor": 5
}
